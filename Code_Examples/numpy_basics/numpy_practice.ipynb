{
 "cells": [
  {
   "cell_type": "code",
   "execution_count": 1,
   "id": "79146e66-a2f8-4349-962b-ee652c610963",
   "metadata": {},
   "outputs": [],
   "source": [
    "import numpy as np"
   ]
  },
  {
   "cell_type": "code",
   "execution_count": 16,
   "id": "20c309e4-7611-49a6-bc2a-6dfc331d0115",
   "metadata": {},
   "outputs": [],
   "source": [
    "a = [1, 2, 3, 4, 5]\n",
    "b = [10, 20, 30, 40, 50]\n",
    "c = [x for x in range(100, 501, 100)]"
   ]
  },
  {
   "cell_type": "code",
   "execution_count": 30,
   "id": "a2904e0b-6134-48d2-ab55-643c6961b8c4",
   "metadata": {},
   "outputs": [
    {
     "name": "stdout",
     "output_type": "stream",
     "text": [
      "(5,)\n",
      "[1, 2, 3, 4, 5]\n",
      "[1 2 3 4 5]\n",
      "(5,)\n"
     ]
    }
   ],
   "source": [
    "the_array = np.array(a)\n",
    "print(the_array.shape)\n",
    "print(a)\n",
    "a_T = np.transpose(the_array)\n",
    "print(a_T)\n",
    "print(a_T.shape)"
   ]
  },
  {
   "cell_type": "code",
   "execution_count": 34,
   "id": "054c2962-e354-4010-9ff0-234f4b7c0f3a",
   "metadata": {},
   "outputs": [
    {
     "name": "stdout",
     "output_type": "stream",
     "text": [
      "[[ 1  2  3  4  5]\n",
      " [10 20 30 40 50]]\n",
      "(2, 5)\n",
      "2\n"
     ]
    }
   ],
   "source": [
    "array2 = np.array([a, b])\n",
    "print(array2)\n",
    "print(array2.shape)\n",
    "print(array2.ndim)"
   ]
  },
  {
   "cell_type": "code",
   "execution_count": 35,
   "id": "152a5f32-bc4a-4a46-b9d6-8d556776b515",
   "metadata": {},
   "outputs": [
    {
     "name": "stdout",
     "output_type": "stream",
     "text": [
      "[[  1   2   3   4   5]\n",
      " [ 10  20  30  40  50]\n",
      " [100 200 300 400 500]]\n",
      "(3, 5)\n",
      "2\n"
     ]
    }
   ],
   "source": [
    "array3 = np.array([a, b, c])\n",
    "print(array3)\n",
    "print(array3.shape)\n",
    "print(array3.ndim)"
   ]
  },
  {
   "cell_type": "code",
   "execution_count": 38,
   "id": "33757d3d-c435-4469-8179-a315122d3d11",
   "metadata": {},
   "outputs": [
    {
     "name": "stdout",
     "output_type": "stream",
     "text": [
      "[[[  1   2   3   4   5]\n",
      "  [ 10  20  30  40  50]]\n",
      "\n",
      " [[100 200 300 400 500]\n",
      "  [ -1  -2  -3  -4  -5]]]\n",
      "(2, 2, 5)\n",
      "3\n"
     ]
    }
   ],
   "source": [
    "d = [-x for x in range(1, 6)]\n",
    "array4 = np.array([[a, b], [c,d]])\n",
    "print(array4)\n",
    "print(array4.shape)\n",
    "print(array4.ndim)"
   ]
  },
  {
   "cell_type": "code",
   "execution_count": 42,
   "id": "959634d7-347f-4ae7-a6e3-e8d11423a144",
   "metadata": {},
   "outputs": [
    {
     "name": "stdout",
     "output_type": "stream",
     "text": [
      "[[ 1  2  3  4  5]\n",
      " [10 20 30 40 50]]\n",
      "2\n",
      "\n",
      "[1 2 3 4 5]\n",
      "5\n",
      "\n",
      "[10 20 30 40 50]\n",
      "5\n",
      "[[100 200 300 400 500]\n",
      " [ -1  -2  -3  -4  -5]]\n",
      "2\n",
      "\n",
      "[100 200 300 400 500]\n",
      "5\n",
      "\n",
      "[-1 -2 -3 -4 -5]\n",
      "5\n"
     ]
    }
   ],
   "source": [
    "for line in array4:\n",
    "    print(line)\n",
    "    print(len(line))\n",
    "    for l in line:\n",
    "        print()\n",
    "        print(l)\n",
    "        print(len(l))"
   ]
  },
  {
   "cell_type": "markdown",
   "id": "1aae8d9d-9e53-4d31-b1c4-a6bcf57c9b7d",
   "metadata": {},
   "source": [
    "# TILE"
   ]
  },
  {
   "cell_type": "code",
   "execution_count": 52,
   "id": "a76555bb-30c5-48d4-9ee9-09464e84e220",
   "metadata": {},
   "outputs": [
    {
     "name": "stdout",
     "output_type": "stream",
     "text": [
      "dimensions:  2\n",
      "shape:  (10, 2)\n",
      "[[2 2]\n",
      " [2 2]\n",
      " [2 2]\n",
      " [2 2]\n",
      " [2 2]\n",
      " [2 2]\n",
      " [2 2]\n",
      " [2 2]\n",
      " [2 2]\n",
      " [2 2]]\n"
     ]
    }
   ],
   "source": [
    "a = np.tile(2, (10, 2))\n",
    "print('dimensions: ', a.ndim)\n",
    "print('shape: ', a.shape)\n",
    "print(a)"
   ]
  },
  {
   "cell_type": "code",
   "execution_count": 53,
   "id": "ac401769-dd6b-429d-85ec-2f0a56b4b6a7",
   "metadata": {},
   "outputs": [
    {
     "name": "stdout",
     "output_type": "stream",
     "text": [
      "dimensions:  2\n",
      "shape:  (2, 10)\n",
      "[[1 1 1 1 1 1 1 1 1 1]\n",
      " [1 1 1 1 1 1 1 1 1 1]]\n"
     ]
    }
   ],
   "source": [
    "b = np.tile(1, (2, 10))\n",
    "print('dimensions: ', b.ndim)\n",
    "print('shape: ', b.shape)\n",
    "print(b)"
   ]
  },
  {
   "cell_type": "code",
   "execution_count": null,
   "id": "00fd634d-0894-4fa0-8844-ba98ab76165e",
   "metadata": {},
   "outputs": [],
   "source": []
  }
 ],
 "metadata": {
  "kernelspec": {
   "display_name": "Python 3 (ipykernel)",
   "language": "python",
   "name": "python3"
  },
  "language_info": {
   "codemirror_mode": {
    "name": "ipython",
    "version": 3
   },
   "file_extension": ".py",
   "mimetype": "text/x-python",
   "name": "python",
   "nbconvert_exporter": "python",
   "pygments_lexer": "ipython3",
   "version": "3.10.2"
  }
 },
 "nbformat": 4,
 "nbformat_minor": 5
}
