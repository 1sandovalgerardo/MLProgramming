{
 "cells": [
  {
   "cell_type": "code",
   "execution_count": null,
   "metadata": {},
   "outputs": [],
   "source": [
    "import numpy as np"
   ]
  },
  {
   "cell_type": "code",
   "execution_count": null,
   "metadata": {},
   "outputs": [],
   "source": [
    "cd ~/classes/DSC478/data"
   ]
  },
  {
   "cell_type": "markdown",
   "metadata": {},
   "source": [
    "#### In this example, we consider the use of Numpy in handling a typical relational dataset (__[video_store.csv](../data/video_store.csv)__). Since some fields are not numeric, we cannot use \"loadtxt\" function to load the table. Instead we can use the more general function \"genfromtxt\" to load the data with dtype=None. This will create the 2d array with strings as entries. The numeric fields can later be converted into the appropriate data type."
   ]
  },
  {
   "cell_type": "code",
   "execution_count": null,
   "metadata": {},
   "outputs": [],
   "source": [
    "vstable = np.genfromtxt(\"video_store.csv\", delimiter=\",\", dtype=str)\n",
    "print (vstable)"
   ]
  },
  {
   "cell_type": "code",
   "execution_count": null,
   "metadata": {},
   "outputs": [],
   "source": [
    "labels = vstable[0]\n",
    "print (labels)"
   ]
  },
  {
   "cell_type": "code",
   "execution_count": null,
   "metadata": {},
   "outputs": [],
   "source": [
    "vstable = vstable[1:]\n",
    "vstable[0:5]"
   ]
  },
  {
   "cell_type": "markdown",
   "metadata": {},
   "source": [
    "#### Now we can convert columns to the appropriate type as necessary:"
   ]
  },
  {
   "cell_type": "code",
   "execution_count": null,
   "metadata": {},
   "outputs": [],
   "source": [
    "age = np.array(vstable[:,3], dtype=int)\n",
    "print (age)"
   ]
  },
  {
   "cell_type": "code",
   "execution_count": null,
   "metadata": {},
   "outputs": [],
   "source": [
    "sal = np.array(vstable[:,2], dtype=float)\n",
    "print (sal)"
   ]
  },
  {
   "cell_type": "code",
   "execution_count": null,
   "metadata": {},
   "outputs": [],
   "source": [
    "min_sal = sal.min()\n",
    "max_sal = sal.max()\n",
    "print (min_sal, max_sal)"
   ]
  },
  {
   "cell_type": "code",
   "execution_count": null,
   "metadata": {},
   "outputs": [],
   "source": [
    "visit_avg = np.array(vstable[:,5], dtype=float)\n",
    "rentals = np.array(vstable[:,4], dtype=float)"
   ]
  },
  {
   "cell_type": "markdown",
   "metadata": {},
   "source": [
    "#### Let's normalize Income using standard Python list comprehensions"
   ]
  },
  {
   "cell_type": "code",
   "execution_count": null,
   "metadata": {},
   "outputs": [],
   "source": [
    "norm_sal = [(x-min_sal)/(max_sal-min_sal) for x in sal]\n",
    "print (norm_sal)"
   ]
  },
  {
   "cell_type": "markdown",
   "metadata": {},
   "source": [
    "#### But, we can do this more easily and efficiently with NumPy"
   ]
  },
  {
   "cell_type": "code",
   "execution_count": null,
   "metadata": {},
   "outputs": [],
   "source": [
    "np.set_printoptions(precision=4, linewidth=80, suppress=True)\n",
    "\n",
    "sal_range = max_sal - min_sal\n",
    "norm_sal = (sal - min_sal) / sal_range\n",
    "print (norm_sal)\n"
   ]
  },
  {
   "cell_type": "markdown",
   "metadata": {},
   "source": [
    "#### Z-Score Standardization on Age"
   ]
  },
  {
   "cell_type": "code",
   "execution_count": null,
   "metadata": {},
   "outputs": [],
   "source": [
    "age_mean = age.mean()\n",
    "age_std = age.std()\n",
    "print (age_mean, age_std)"
   ]
  },
  {
   "cell_type": "code",
   "execution_count": null,
   "metadata": {},
   "outputs": [],
   "source": [
    "age_znorm = (age - age_mean) / age_std\n",
    "print (age_znorm)"
   ]
  },
  {
   "cell_type": "markdown",
   "metadata": {},
   "source": [
    "#### Suppose that we would like to find all \"good cutomers\" defined as those with Rentals value of >= 30:"
   ]
  },
  {
   "cell_type": "code",
   "execution_count": null,
   "metadata": {},
   "outputs": [],
   "source": [
    "is_good = np.array(rentals >= 30)\n",
    "good_cust = np.array(vstable[is_good])\n",
    "print (good_cust)"
   ]
  },
  {
   "cell_type": "markdown",
   "metadata": {},
   "source": [
    "#### Now, suppose we want to change the Gender atrribute into binary (converting it from one cateogrical attribute with two values into two attributes (say 'Gender_F' and 'Gender_M') with 0 or 1 as values depending on the original value. These new variables are sometimes called \"dummy\" variable. The purpose of this transfromation is to allow for the application of technqiues that require all attributes to be numerical (e.g., regression analysis or correlation analysis). Below, we show how this could be done manually for illustration purposes. In practice (as we shall see later in this notebook), there are Python libraries and packages that perform this type of transformation automatically."
   ]
  },
  {
   "cell_type": "code",
   "execution_count": null,
   "metadata": {},
   "outputs": [],
   "source": [
    "gender = np.array(vstable[:,1])\n",
    "gender"
   ]
  },
  {
   "cell_type": "code",
   "execution_count": null,
   "metadata": {},
   "outputs": [],
   "source": [
    "gen_f = np.zeros(len(gender))\n",
    "gen_f"
   ]
  },
  {
   "cell_type": "code",
   "execution_count": null,
   "metadata": {},
   "outputs": [],
   "source": [
    "gen_f[gender=='F'] = 1\n",
    "gen_f"
   ]
  },
  {
   "cell_type": "code",
   "execution_count": null,
   "metadata": {},
   "outputs": [],
   "source": [
    "gen_m = np.zeros(len(gender))\n",
    "gen_m[gender=='M'] = 1\n",
    "gen_m"
   ]
  },
  {
   "cell_type": "markdown",
   "metadata": {},
   "source": [
    "#### Let's now create a new 2d array with the old Gender attributes replaced with the new ones. In the example below, we have removed the two other categorical attributes (Incidentals and Genre) for now, just to illustrate what the data would look like in \"Standard Spreadsheet Fromat\":"
   ]
  },
  {
   "cell_type": "code",
   "execution_count": null,
   "metadata": {},
   "outputs": [],
   "source": [
    "vs_new = np.array([gen_f,gen_m,sal,age,rentals,visit_avg])\n",
    "vs_new = vs_new.T\n",
    "\n",
    "np.set_printoptions(linewidth=80)\n",
    "\n",
    "#Here are the first 5 elements of the new array\n",
    "print (vs_new[0:5])"
   ]
  },
  {
   "cell_type": "markdown",
   "metadata": {},
   "source": [
    "#### Note that we can apply standard statistical or numeric functions to the whole array and not just to individual columns:"
   ]
  },
  {
   "cell_type": "code",
   "execution_count": null,
   "metadata": {},
   "outputs": [],
   "source": [
    "f_mean,m_mean,sal_mean,age_mean,rentals_mean,visavg_mean= vs_new.mean(axis=0)\n",
    "\n",
    "print (\"       Gen=F Gen=M Income  Age  Rntls  VisAvg\")\n",
    "print (\"Mean: \", f_mean,m_mean,sal_mean,age_mean,rentals_mean,visavg_mean)"
   ]
  },
  {
   "cell_type": "code",
   "execution_count": null,
   "metadata": {},
   "outputs": [],
   "source": [
    "#Now that the data is in all numeric form, we can apply techiques such as correlation analysis on the variables\n",
    "np.corrcoef(vs_new.T)"
   ]
  },
  {
   "cell_type": "markdown",
   "metadata": {},
   "source": [
    "#### The new table can be written into a file using \"savetxt\" function:"
   ]
  },
  {
   "cell_type": "code",
   "execution_count": null,
   "metadata": {},
   "outputs": [],
   "source": [
    "out_file = open(\"new_video_store.csv\", \"w\")\n",
    "np.savetxt(out_file, vs_new, fmt='%d,%d,%1.2f,%1.2f,%1.2f,%1.2f', delimiter=',')"
   ]
  },
  {
   "cell_type": "markdown",
   "metadata": {},
   "source": [
    "#### An alternative method for loading heterogenous (mixed type) data into an array is to specify the dtype and set \"Names\" to \"True\". This creates a structured array with each row representing a tuple. Each column can be accessed by the keys extracted from the first line of the data file."
   ]
  },
  {
   "cell_type": "code",
   "execution_count": null,
   "metadata": {},
   "outputs": [],
   "source": [
    "vs = np.genfromtxt(\"video_store.csv\", delimiter=\",\", names=True, dtype=(int, \"|U1\", float, int, int, float, \"|U10\"))\n",
    "print (vs)"
   ]
  },
  {
   "cell_type": "code",
   "execution_count": null,
   "metadata": {},
   "outputs": [],
   "source": [
    "np.dtype(vs[0])"
   ]
  },
  {
   "cell_type": "code",
   "execution_count": null,
   "metadata": {},
   "outputs": [],
   "source": [
    "print (vs['Gender'])"
   ]
  },
  {
   "cell_type": "code",
   "execution_count": null,
   "metadata": {},
   "outputs": [],
   "source": [
    "print (vs['Income'])"
   ]
  },
  {
   "cell_type": "code",
   "execution_count": null,
   "metadata": {},
   "outputs": [],
   "source": [
    "print (sum(vs['Genre']=='Action'))"
   ]
  },
  {
   "cell_type": "code",
   "execution_count": null,
   "metadata": {},
   "outputs": [],
   "source": [
    "is_good = np.array(vs['Rentals'] >= 30)\n",
    "good_cust = np.array(vs[is_good])\n",
    "good_cust"
   ]
  },
  {
   "cell_type": "code",
   "execution_count": null,
   "metadata": {},
   "outputs": [],
   "source": [
    "print (\"Min Rentals: \", good_cust['Rentals'].min())\n",
    "print (\"Max Rentals: \", good_cust['Rentals'].max())\n",
    "print (\"Rentals Mean: \", good_cust['Rentals'].mean())\n",
    "print (\"Rentals Median: \", np.median(good_cust['Rentals']))\n",
    "print (\"Rentals Std. Dev.: \", good_cust['Rentals'].std())"
   ]
  },
  {
   "cell_type": "markdown",
   "metadata": {},
   "source": [
    "#### For most types of analysis, we would want to exclude the index column from the data (in this case the ID attribute). This could be done by removing the first column of the matrix. However, it could have been done when reading the data in using the \"usecols\" parameter in \"genfromtxt\"."
   ]
  },
  {
   "cell_type": "code",
   "execution_count": null,
   "metadata": {},
   "outputs": [],
   "source": [
    "vs_nid = np.genfromtxt(\"video_store.csv\", delimiter=\",\", usecols=(1,2,3,4,5,6), names=True, dtype=(\"|U1\", float, int, int, float, \"|S10\"))\n",
    "vs_nid[0:5]"
   ]
  },
  {
   "cell_type": "markdown",
   "metadata": {},
   "source": [
    "#### Once the data is in structured array format as above, we can combine the tuples with feature names to create an array of dicts. The DictVectorizer package from the Scikit-learn library can then be used to create dummy variables for each of the categorical attriibutes and convert the data into the standard spreadsheet format. This is the preferred approach for creating dummy variables than the manual approach discussed earlier in cells 25-30."
   ]
  },
  {
   "cell_type": "code",
   "execution_count": null,
   "metadata": {},
   "outputs": [],
   "source": [
    "names = vs_nid.dtype.names\n",
    "\n",
    "vs_dict = [dict(zip(names, record)) for record in vs_nid] "
   ]
  },
  {
   "cell_type": "code",
   "execution_count": null,
   "metadata": {},
   "outputs": [],
   "source": [
    "print (vs_dict[0])"
   ]
  },
  {
   "cell_type": "code",
   "execution_count": null,
   "metadata": {},
   "outputs": [],
   "source": [
    "from sklearn.feature_extraction import DictVectorizer"
   ]
  },
  {
   "cell_type": "code",
   "execution_count": null,
   "metadata": {},
   "outputs": [],
   "source": [
    "# works in python 2 - deprecated in python 3\n",
    "#vs_vec = DictVectorizer()"
   ]
  },
  {
   "cell_type": "code",
   "execution_count": null,
   "metadata": {},
   "outputs": [],
   "source": [
    "np.set_printoptions(linewidth=100)\n",
    "\n",
    "vs_dict\n",
    "vs_vect = []\n",
    "for item in vs_dict:\n",
    "    new_dict = {}\n",
    "    for k,v in item.items():\n",
    "        #print (\"key\",k,v)\n",
    "        if k == \"Gender\":\n",
    "            if v == 'M':\n",
    "                new_dict[\"Gender=M\"] = 1\n",
    "                new_dict[\"Gender=F\"] = 0\n",
    "            elif v == 'F':\n",
    "                new_dict[\"Gender=F\"] = 1\n",
    "                new_dict[\"Gender=M\"] = 0\n",
    "        if k == \"Genre\":\n",
    "            if v == 'Action':\n",
    "                new_dict[\"Genre=Action\"] = 1\n",
    "                new_dict[\"Gender=Comedy\"] = 0\n",
    "                new_dict[\"Gender=Drama\"] = 0\n",
    "            elif v == 'Comedy':\n",
    "                new_dict[\"Genre=Action\"] = 0\n",
    "                new_dict[\"Gender=Comedy\"] = 1\n",
    "                new_dict[\"Gender=Drama\"] = 0\n",
    "            elif v == 'Drama':\n",
    "                new_dict[\"Genre=Action\"] = 0\n",
    "                new_dict[\"Gender=Comedy\"] = 0\n",
    "                new_dict[\"Gender=Drama\"] = 1\n",
    "        else:\n",
    "            new_dict[k] = v\n",
    "        \n",
    "    vs_vect.append(new_dict)\n",
    "\n",
    "#print(len(vs_dict))\n",
    "#print(len(vs_vect))\n"
   ]
  },
  {
   "cell_type": "code",
   "execution_count": null,
   "metadata": {},
   "outputs": [],
   "source": [
    "#vs_vec.get_feature_names()\n",
    "vs_vect[0].keys()\n",
    "\n",
    "income = np.array([d.get('Income') for d in vs_vect])\n",
    "age = np.array([d.get('Age') for d in vs_vect])\n",
    "\n"
   ]
  },
  {
   "cell_type": "markdown",
   "metadata": {},
   "source": [
    "#### Now let's do some visualization using the Mathplotlib library to get some more insight into the characteristics of the variables and their relationships."
   ]
  },
  {
   "cell_type": "code",
   "execution_count": null,
   "metadata": {},
   "outputs": [],
   "source": [
    "import matplotlib.pyplot as plt\n",
    "%matplotlib inline"
   ]
  },
  {
   "cell_type": "code",
   "execution_count": null,
   "metadata": {},
   "outputs": [],
   "source": [
    "plt.hist(income, bins=9, alpha=0.5)\n",
    "plt.xlabel('Income')\n",
    "plt.ylabel('Count')\n",
    "plt.title('Histogram of Income')\n",
    "plt.axis([0, 100000, 0, 10])\n",
    "plt.grid(True)\n",
    "plt.show()"
   ]
  },
  {
   "cell_type": "markdown",
   "metadata": {},
   "source": [
    "#### Let's cross-tabulate the Genre and the Gender attributes to find out if men and women have different movie preferences. [Note: correlation analysis perfromed earlier could also shed some light on this question.]"
   ]
  },
  {
   "cell_type": "code",
   "execution_count": null,
   "metadata": {},
   "outputs": [],
   "source": [
    "# First we need the counts for males and females across different genres\n",
    "m_counts = [14, 6, 8]  # counts of Action, Comedy, Drama for male custs.\n",
    "f_counts = [8, 6, 12]  # counts of Action, Comedy, Drama for female custs.\n",
    "N = len(f_counts)"
   ]
  },
  {
   "cell_type": "code",
   "execution_count": null,
   "metadata": {},
   "outputs": [],
   "source": [
    "ind = np.arange(N)  # the x locations for the groups\n",
    "ind = ind + 0.15\n",
    "width = 0.35       # the width of the bars\n",
    "\n",
    "fig, ax = plt.subplots()\n",
    "rects1 = ax.bar(ind, f_counts, width, color='b')\n",
    "rects2 = ax.bar(ind+width, m_counts, width, color='r')\n",
    "\n",
    "rects1 = plt.bar(ind, f_counts, width, color='b')\n",
    "rects2 = plt.bar(ind+width, m_counts, width, color='r')\n",
    "\n",
    "\n",
    "ax.set_ylabel('Counts')\n",
    "ax.set_ybound(upper=16)\n",
    "ax.set_title('Counts by Genre and Gender')\n",
    "ax.set_xticks(ind+width)\n",
    "ax.set_xticklabels( ('Action', 'Comedy', 'Drama') )\n",
    "\n",
    "ax.legend( (rects1[0], rects2[0]), ('Female', 'Male') )\n",
    "\n",
    "plt.show()\n",
    "\n",
    "# plt.savefig(\"figure.pdf\")"
   ]
  },
  {
   "cell_type": "markdown",
   "metadata": {},
   "source": [
    "#### This figure shows that male customers tend to prefer action movies, while female customers tend to like dramas. "
   ]
  },
  {
   "cell_type": "markdown",
   "metadata": {},
   "source": [
    "#### Now, let's use a scatter plot discover possible correlations between Age and Income."
   ]
  },
  {
   "cell_type": "code",
   "execution_count": null,
   "metadata": {},
   "outputs": [],
   "source": [
    "fig = plt.figure(figsize=(5, 4))\n",
    "# Create an Axes object.\n",
    "ax = fig.add_subplot(1,1,1) # one row, one column, first plot\n",
    "# Plot the data.\n",
    "ax.scatter(age, income, color=\"blue\", marker=\"*\")\n",
    "# Add a title.\n",
    "ax.set_title(\"Age VS. Income\")\n",
    "# Add some axis labels.\n",
    "ax.set_xlabel(\"Age\")\n",
    "ax.set_ylabel(\"Income\")\n",
    "# Produce an image.\n",
    "# fig.savefig(\"scatterplot.png\")\n",
    "plt.show()"
   ]
  },
  {
   "cell_type": "markdown",
   "metadata": {},
   "source": [
    "#### Indeed, there does appear to be a positive correlation between Age and Income. This can also be observed by viewing the Pearson r correlation coefficient in our correlation matrix shown earlier."
   ]
  },
  {
   "cell_type": "code",
   "execution_count": null,
   "metadata": {},
   "outputs": [],
   "source": []
  }
 ],
 "metadata": {
  "kernelspec": {
   "display_name": "Python 3",
   "language": "python",
   "name": "python3"
  },
  "language_info": {
   "codemirror_mode": {
    "name": "ipython",
    "version": 3
   },
   "file_extension": ".py",
   "mimetype": "text/x-python",
   "name": "python",
   "nbconvert_exporter": "python",
   "pygments_lexer": "ipython3",
   "version": "3.7.4"
  }
 },
 "nbformat": 4,
 "nbformat_minor": 1
}
