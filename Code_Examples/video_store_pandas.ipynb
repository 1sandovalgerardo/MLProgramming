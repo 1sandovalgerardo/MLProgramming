{
 "cells": [
  {
   "cell_type": "code",
   "execution_count": null,
   "metadata": {},
   "outputs": [],
   "source": [
    "# Video Store - Pandas\n",
    "import numpy as np\n",
    "import pandas as pd\n",
    "import matplotlib.pyplot as plt"
   ]
  },
  {
   "cell_type": "code",
   "execution_count": null,
   "metadata": {},
   "outputs": [],
   "source": [
    "# Read the input file\n",
    "vstable = pd.read_csv(\"/home/roselyne/classes/DSC478/data/video_store.csv\", index_col=0)\n",
    "# Look at the shape of the data matrix\n",
    "vstable.shape\n",
    "# 40 objects * 6 features"
   ]
  },
  {
   "cell_type": "code",
   "execution_count": null,
   "metadata": {},
   "outputs": [],
   "source": [
    "# Print first 10 objects\n",
    "vstable.head(10)"
   ]
  },
  {
   "cell_type": "code",
   "execution_count": null,
   "metadata": {},
   "outputs": [],
   "source": [
    "# Print feature names\n",
    "vstable.columns"
   ]
  },
  {
   "cell_type": "code",
   "execution_count": null,
   "metadata": {},
   "outputs": [],
   "source": [
    "# What about feature types\n",
    "vstable.dtypes"
   ]
  },
  {
   "cell_type": "markdown",
   "metadata": {},
   "source": [
    "#### Now we can convert columns to the appropriate type as necessary:"
   ]
  },
  {
   "cell_type": "code",
   "execution_count": null,
   "metadata": {},
   "outputs": [],
   "source": [
    "vstable[\"Income\"] = vstable[\"Income\"].astype(float)\n",
    "vstable.dtypes"
   ]
  },
  {
   "cell_type": "code",
   "execution_count": null,
   "metadata": {},
   "outputs": [],
   "source": [
    "# Describe the data\n",
    "vstable.describe()"
   ]
  },
  {
   "cell_type": "code",
   "execution_count": null,
   "metadata": {},
   "outputs": [],
   "source": [
    "#Alternatively, force describe \"all\" - we can now see categorical attributes frequencies\n",
    "vstable.describe(include=\"all\")"
   ]
  },
  {
   "cell_type": "code",
   "execution_count": null,
   "metadata": {},
   "outputs": [],
   "source": [
    "# Select which variables to describe\n",
    "vstable[[\"Income\", \"Age\"]].describe()"
   ]
  },
  {
   "cell_type": "code",
   "execution_count": null,
   "metadata": {},
   "outputs": [],
   "source": [
    "# Compute min/max of income\n",
    "min_sal = vstable[\"Income\"].min()\n",
    "max_sal = vstable[\"Income\"].max()\n",
    "print (min_sal, max_sal)"
   ]
  },
  {
   "cell_type": "markdown",
   "metadata": {},
   "source": [
    "#### We can perform data transformations such as normalization by directly applying the operation to the Pandas Series:"
   ]
  },
  {
   "cell_type": "code",
   "execution_count": null,
   "metadata": {},
   "outputs": [],
   "source": [
    "# Normalize salaries and print first 10\n",
    "norm_sal = (vstable[\"Income\"] - min_sal) / (max_sal-min_sal)\n",
    "print (norm_sal.head(10))"
   ]
  },
  {
   "cell_type": "markdown",
   "metadata": {},
   "source": [
    "#### Z-Score Standardization on Age"
   ]
  },
  {
   "cell_type": "code",
   "execution_count": null,
   "metadata": {},
   "outputs": [],
   "source": [
    "# Standardize age and print first 5\n",
    "age_z = (vstable[\"Age\"] - vstable[\"Age\"].mean()) / vstable[\"Age\"].std()\n",
    "age_z.head(5)"
   ]
  },
  {
   "cell_type": "code",
   "execution_count": null,
   "metadata": {},
   "outputs": [],
   "source": [
    "# Add a new column to the data frame\n",
    "vstable[\"Age-Std\"] = age_z\n",
    "vstable.head()"
   ]
  },
  {
   "cell_type": "code",
   "execution_count": null,
   "metadata": {},
   "outputs": [],
   "source": [
    "inc_bins = pd.qcut(vstable.Income, 3)\n",
    "inc_bins.head(10)"
   ]
  },
  {
   "cell_type": "code",
   "execution_count": null,
   "metadata": {},
   "outputs": [],
   "source": [
    "# Bin the income variable and print first few\n",
    "inc_bins = pd.qcut(vstable.Income, [0, .33, .66, 1], labels=[\"low\", \"mid\", \"high\"])\n",
    "inc_bins.head(10)"
   ]
  },
  {
   "cell_type": "code",
   "execution_count": null,
   "metadata": {},
   "outputs": [],
   "source": [
    "# Concatenate vstable with two new vars\n",
    "vs2 = pd.concat([vstable,inc_bins], axis=1)\n",
    "vs2.head(10)"
   ]
  },
  {
   "cell_type": "code",
   "execution_count": null,
   "metadata": {},
   "outputs": [],
   "source": [
    "# Or add binned income directly to vstable\n",
    "vstable[\"inc-bins\"] = inc_bins\n",
    "vstable.head(2)"
   ]
  },
  {
   "cell_type": "code",
   "execution_count": null,
   "metadata": {},
   "outputs": [],
   "source": [
    "# We can also drop columns from the dataframe\n",
    "vstable.drop(columns=['Age-Std','inc-bins'], inplace=True)\n",
    "vstable.head()"
   ]
  },
  {
   "cell_type": "code",
   "execution_count": null,
   "metadata": {},
   "outputs": [],
   "source": [
    "# Create a copy of vstable with numeric values only\n",
    "vs_numeric = vstable[[\"Age\",\"Income\",\"Rentals\",\"AvgPerVisit\"]]\n",
    "vs_num_std = (vs_numeric - vs_numeric.mean()) / vs_numeric.std()\n",
    "vs_num_std.head(5)"
   ]
  },
  {
   "cell_type": "code",
   "execution_count": null,
   "metadata": {},
   "outputs": [],
   "source": [
    "#A lambda function is a small anonymous function.\n",
    "zscore = lambda x: (x - x.mean()) / x.std()\n",
    "vs_num_std = vs_numeric.apply(zscore)\n",
    "vs_num_std.head()"
   ]
  },
  {
   "cell_type": "code",
   "execution_count": null,
   "metadata": {},
   "outputs": [],
   "source": [
    "# Instead of separating the numeric attributes, we can condition the standardization function on the data types\n",
    "zscore = lambda x: ((x - x.mean()) / x.std()) if (x.dtypes==np.float64 or x.dtypes==np.int64) else x\n",
    "vs_std = vstable.copy()\n",
    "vs_std.apply(zscore).head()"
   ]
  },
  {
   "cell_type": "markdown",
   "metadata": {},
   "source": [
    "### Grouping and aggregating data"
   ]
  },
  {
   "cell_type": "code",
   "execution_count": null,
   "metadata": {},
   "outputs": [],
   "source": [
    "# Aggregate data using groupby\n",
    "vstable.groupby(\"Gender\").mean()"
   ]
  },
  {
   "cell_type": "code",
   "execution_count": null,
   "metadata": {},
   "outputs": [],
   "source": [
    "vstable.groupby(\"Genre\").mean()"
   ]
  },
  {
   "cell_type": "code",
   "execution_count": null,
   "metadata": {},
   "outputs": [],
   "source": [
    "#vstable.groupby(\"Genre\").describe()\n",
    "vstable.groupby(\"Genre\").describe().T"
   ]
  },
  {
   "cell_type": "code",
   "execution_count": null,
   "metadata": {},
   "outputs": [],
   "source": [
    "# Plotting a histogram\n",
    "vstable[\"Income\"].plot(kind=\"hist\")\n",
    "#vstable[\"Income\"].plot(kind=\"hist\", bins=4)"
   ]
  },
  {
   "cell_type": "code",
   "execution_count": null,
   "metadata": {},
   "outputs": [],
   "source": [
    "# Bar plot is different - discrete counts, so we can change the color\n",
    "vstable[\"Genre\"].value_counts().plot(kind='bar', color=['red', 'blue', 'purple'])"
   ]
  },
  {
   "cell_type": "code",
   "execution_count": null,
   "metadata": {},
   "outputs": [],
   "source": [
    "#vstable[\"Genre\"].value_counts()\n",
    "#vstable[\"Genre\"].value_counts()\n",
    "#vstable[\"Genre\"].count()"
   ]
  },
  {
   "cell_type": "code",
   "execution_count": null,
   "metadata": {},
   "outputs": [],
   "source": [
    "# Sometimes it is more useful to look at percentages\n",
    "temp1 = vstable[\"Genre\"].value_counts()/vstable[\"Genre\"].count()\n",
    "temp2 = vstable[\"Gender\"].value_counts()/vstable[\"Gender\"].count()\n",
    "\n",
    "fig = plt.figure(figsize=(10,4))\n",
    "ax1 = fig.add_subplot(121)\n",
    "ax1.set_xlabel('Genre')\n",
    "ax1.set_ylabel('Percentage')\n",
    "ax1.set_title(\"Genre Distribution\")\n",
    "temp1.plot(kind='bar', grid = True)\n",
    "\n",
    "ax1 = fig.add_subplot(122)\n",
    "ax1.set_xlabel('Gender')\n",
    "ax1.set_ylabel('Percentage')\n",
    "ax1.set_title(\"Gender Distribution\")\n",
    "temp2.plot(kind='bar', grid = True)\n"
   ]
  },
  {
   "cell_type": "code",
   "execution_count": null,
   "metadata": {},
   "outputs": [],
   "source": [
    "# Scatter plots (look at relationships between two variables)\n",
    "vstable.plot(x=\"Income\", y=\"Age\", kind=\"scatter\")"
   ]
  },
  {
   "cell_type": "code",
   "execution_count": null,
   "metadata": {},
   "outputs": [],
   "source": [
    "# Use a third variable to color the data points and convey more information\n",
    "vstable.plot(x=\"Income\", y=\"Age\", kind=\"scatter\", alpha=0.8, s=vstable[\"Rentals\"]*5, c=\"AvgPerVisit\", cmap=plt.get_cmap(\"jet\"), colorbar=True, figsize=(10,7))"
   ]
  },
  {
   "cell_type": "code",
   "execution_count": null,
   "metadata": {},
   "outputs": [],
   "source": [
    "# Using groupby and count for cross-tabulation\n",
    "vstable.groupby([\"Genre\",\"Gender\"])[\"Gender\"].count()"
   ]
  },
  {
   "cell_type": "code",
   "execution_count": null,
   "metadata": {},
   "outputs": [],
   "source": [
    "# Or use the crosstab function\n",
    "gg = pd.crosstab(vstable[\"Genre\"], vstable[\"Gender\"])\n",
    "gg"
   ]
  },
  {
   "cell_type": "code",
   "execution_count": null,
   "metadata": {},
   "outputs": [],
   "source": [
    "# Figures are easier to read\n",
    "plt.show(gg.plot(kind=\"bar\"))"
   ]
  },
  {
   "cell_type": "code",
   "execution_count": null,
   "metadata": {},
   "outputs": [],
   "source": [
    "gg[\"percent_female\"] = gg[\"F\"]/(gg[\"F\"]+gg[\"M\"])\n",
    "gg"
   ]
  },
  {
   "cell_type": "code",
   "execution_count": null,
   "metadata": {},
   "outputs": [],
   "source": [
    "plt.show(gg[\"percent_female\"].plot(kind=\"bar\"))"
   ]
  },
  {
   "cell_type": "markdown",
   "metadata": {},
   "source": [
    "#### Suppose that we would like to find all \"good cutomers\", i.e., those with Rentals value of >= 30:"
   ]
  },
  {
   "cell_type": "code",
   "execution_count": null,
   "metadata": {},
   "outputs": [],
   "source": [
    "good_cust = vstable[(vstable.Rentals>=30)]\n",
    "good_cust\n"
   ]
  },
  {
   "cell_type": "code",
   "execution_count": null,
   "metadata": {
    "scrolled": true
   },
   "outputs": [],
   "source": [
    "print (\"Good Customers:\\n\", good_cust.describe())\n",
    "print (\"\\n All Customers:\\n\", vstable.describe())"
   ]
  },
  {
   "cell_type": "code",
   "execution_count": null,
   "metadata": {},
   "outputs": [],
   "source": [
    "filteringDataframe = vstable[(vstable.Rentals>=30) & (vstable.Gender=='F')]\n",
    "filteringDataframe"
   ]
  },
  {
   "cell_type": "markdown",
   "metadata": {},
   "source": [
    "#### Creating dummy variables and converting to standard spreadsheet format (all numeric attributes)"
   ]
  },
  {
   "cell_type": "code",
   "execution_count": null,
   "metadata": {},
   "outputs": [],
   "source": [
    "gender_bin = pd.get_dummies(vstable[\"Gender\"], prefix=\"Gender\")\n",
    "gender_bin.head()"
   ]
  },
  {
   "cell_type": "code",
   "execution_count": null,
   "metadata": {
    "scrolled": true
   },
   "outputs": [],
   "source": [
    "vs_ssf = pd.get_dummies(vstable)\n",
    "vs_ssf.head(10)"
   ]
  },
  {
   "cell_type": "code",
   "execution_count": null,
   "metadata": {},
   "outputs": [],
   "source": [
    "#vs_ssf.describe(include=\"all\")\n",
    "vs_ssf.describe()"
   ]
  },
  {
   "cell_type": "code",
   "execution_count": null,
   "metadata": {},
   "outputs": [],
   "source": [
    "# Min-Max normalization performed on the full numeric data set\n",
    "vs_norm = (vs_ssf - vs_ssf.min()) / (vs_ssf.max()-vs_ssf.min())\n",
    "vs_norm.head(10)"
   ]
  },
  {
   "cell_type": "code",
   "execution_count": null,
   "metadata": {},
   "outputs": [],
   "source": [
    "# After converting to all numeric attributes, we can perform correlation analysis on the variable\n",
    "corr_matrix = vs_ssf.corr()\n",
    "corr_matrix"
   ]
  },
  {
   "cell_type": "code",
   "execution_count": null,
   "metadata": {},
   "outputs": [],
   "source": [
    "corr_matrix[\"Rentals\"].sort_values(ascending=False)"
   ]
  },
  {
   "cell_type": "markdown",
   "metadata": {},
   "source": [
    "#### The new table can be written into a file using to_csv method:"
   ]
  },
  {
   "cell_type": "code",
   "execution_count": null,
   "metadata": {},
   "outputs": [],
   "source": [
    "vs_norm.to_csv(\"../data/video_store_Numeric.csv\", float_format=\"%1.2f\")"
   ]
  },
  {
   "cell_type": "code",
   "execution_count": null,
   "metadata": {},
   "outputs": [],
   "source": []
  },
  {
   "cell_type": "code",
   "execution_count": null,
   "metadata": {},
   "outputs": [],
   "source": []
  },
  {
   "cell_type": "code",
   "execution_count": null,
   "metadata": {},
   "outputs": [],
   "source": []
  }
 ],
 "metadata": {
  "kernelspec": {
   "display_name": "Python 3 (ipykernel)",
   "language": "python",
   "name": "python3"
  },
  "language_info": {
   "codemirror_mode": {
    "name": "ipython",
    "version": 3
   },
   "file_extension": ".py",
   "mimetype": "text/x-python",
   "name": "python",
   "nbconvert_exporter": "python",
   "pygments_lexer": "ipython3",
   "version": "3.10.1"
  }
 },
 "nbformat": 4,
 "nbformat_minor": 4
}
