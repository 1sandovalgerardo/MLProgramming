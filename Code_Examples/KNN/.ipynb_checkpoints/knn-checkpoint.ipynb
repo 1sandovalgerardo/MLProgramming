{
 "cells": [
  {
   "cell_type": "markdown",
   "id": "169ea5b4-490b-400c-bfe7-50b9533001fc",
   "metadata": {},
   "source": [
    "# KNN \n",
    "\n",
    "Chapter 2 of Book"
   ]
  },
  {
   "cell_type": "code",
   "execution_count": 1,
   "id": "3c75d7ef-b70e-4fe5-b652-69fd8ffc5b40",
   "metadata": {},
   "outputs": [],
   "source": [
    "import numpy as np\n",
    "import operator"
   ]
  },
  {
   "cell_type": "code",
   "execution_count": 2,
   "id": "d98365a6-8b49-49d1-a052-cdbd282759c5",
   "metadata": {},
   "outputs": [],
   "source": [
    "def createDataSet():\n",
    "    group = np.array([[1.0, 1.1], [1.0, 1.0], [0,0], [0, 0.1]])\n",
    "    labels = ['A', 'A', 'B', 'B']\n",
    "    return group, labels"
   ]
  },
  {
   "cell_type": "code",
   "execution_count": 3,
   "id": "e9ff6d30-d2e9-4ea9-9fc1-f1f06d502d33",
   "metadata": {},
   "outputs": [],
   "source": [
    "group, labels = createDataSet()"
   ]
  },
  {
   "cell_type": "markdown",
   "id": "03b80ea5-563d-4824-9051-3ac53de08f65",
   "metadata": {},
   "source": [
    "np.tile(A, reps): Construct an array by repeating A the number of times given by reps."
   ]
  },
  {
   "cell_type": "code",
   "execution_count": 14,
   "id": "042761b6-f63e-447c-a743-7603ef47eec8",
   "metadata": {},
   "outputs": [
    {
     "data": {
      "text/plain": [
       "array([[5, 5],\n",
       "       [5, 5],\n",
       "       [5, 5],\n",
       "       [5, 5],\n",
       "       [5, 5]])"
      ]
     },
     "execution_count": 14,
     "metadata": {},
     "output_type": "execute_result"
    }
   ],
   "source": [
    "np.tile(5, (5, 2))"
   ]
  },
  {
   "cell_type": "code",
   "execution_count": 18,
   "id": "9afd4825-d703-48b0-92fd-73c9bb3d435d",
   "metadata": {},
   "outputs": [],
   "source": [
    "def classifyZero(inX, data, labels, k):\n",
    "    data_set_size = data.shape[0]\n",
    "    # start of sqrt[ (a_0 - b_0)^2 + (a_1-b_1)^2 +...+(a_n-b_n)^2]\n",
    "    diff = np.tile(inX, (data_set_size, 1)) - data\n",
    "    print(f'diff = {diff}')\n",
    "    sq_diff = diff**2 \n",
    "    print(f'sq_diff = {sq_diff}')\n",
    "    sum_diff_sqrd = sq_diff.sum(axis=1) \n",
    "    print(f'sum_diff_sqrd = {sum_diff_sqrd}')\n",
    "    sqrt_sum_of_diff_sqrd = sum_diff_sqrd**0.5\n",
    "    print(f'sqrt_sum_diff_sqrd = {sqrt_sum_of_diff_sqrd}')\n",
    "    # end of sqrt....\n",
    "    distances_from_x = sqrt_sum_of_diff_sqrd\n",
    "    print(f'distance from x = {distance_from_x}')\n",
    "    sorted_distances = distances_from_x.argsort()\n",
    "    print(f'sorted distance = {sorted_distances}')\n",
    "    class_count = {}\n",
    "    for i in range(k):\n",
    "        vote_i_lable = labels[sorted_distances[i]]\n",
    "        class_count[vote_i_lable] = class_count.get(vote_i_lable, 0)+1\n",
    "    sorted_class_count = sorted(class_count.items(), key=operator.itemgetter(1), reverse=True)\n",
    "    return sorted_class_count[0][0]"
   ]
  },
  {
   "cell_type": "code",
   "execution_count": 19,
   "id": "d66ed2e1-511f-4729-9c71-34dcaba1d117",
   "metadata": {},
   "outputs": [
    {
     "name": "stdout",
     "output_type": "stream",
     "text": [
      "diff = [[-1.  -1.1]\n",
      " [-1.  -1. ]\n",
      " [ 0.   0. ]\n",
      " [ 0.  -0.1]]\n",
      "sq_diff = [[1.   1.21]\n",
      " [1.   1.  ]\n",
      " [0.   0.  ]\n",
      " [0.   0.01]]\n",
      "sum_diff_sqrd = [2.21 2.   0.   0.01]\n",
      "sqrt_sum_diff_sqrd = [1.48660687 1.41421356 0.         0.1       ]\n"
     ]
    },
    {
     "data": {
      "text/plain": [
       "'B'"
      ]
     },
     "execution_count": 19,
     "metadata": {},
     "output_type": "execute_result"
    }
   ],
   "source": [
    "classifyZero([0,0], group, labels, 3)"
   ]
  },
  {
   "cell_type": "code",
   "execution_count": null,
   "id": "537b0848-1c01-43f0-9c0f-803ad98b40df",
   "metadata": {},
   "outputs": [],
   "source": []
  }
 ],
 "metadata": {
  "kernelspec": {
   "display_name": "Python 3 (ipykernel)",
   "language": "python",
   "name": "python3"
  },
  "language_info": {
   "codemirror_mode": {
    "name": "ipython",
    "version": 3
   },
   "file_extension": ".py",
   "mimetype": "text/x-python",
   "name": "python",
   "nbconvert_exporter": "python",
   "pygments_lexer": "ipython3",
   "version": "3.10.1"
  }
 },
 "nbformat": 4,
 "nbformat_minor": 5
}
