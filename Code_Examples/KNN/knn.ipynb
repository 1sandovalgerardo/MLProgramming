{
 "cells": [
  {
   "cell_type": "markdown",
   "id": "169ea5b4-490b-400c-bfe7-50b9533001fc",
   "metadata": {},
   "source": [
    "# KNN \n",
    "\n",
    "Chapter 2 of Book"
   ]
  },
  {
   "cell_type": "code",
   "execution_count": 1,
   "id": "3c75d7ef-b70e-4fe5-b652-69fd8ffc5b40",
   "metadata": {},
   "outputs": [],
   "source": [
    "import numpy as np\n",
    "import operator"
   ]
  },
  {
   "cell_type": "code",
   "execution_count": 2,
   "id": "1d73e29e-ad02-4026-afbe-c4ff1b5f7262",
   "metadata": {},
   "outputs": [
    {
     "data": {
      "text/plain": [
       "'/home/gsandoval/Documents/Classes/depaul/ML_Programming/Code_Examples/KNN'"
      ]
     },
     "execution_count": 2,
     "metadata": {},
     "output_type": "execute_result"
    }
   ],
   "source": [
    "import os\n",
    "os.getcwd()"
   ]
  },
  {
   "cell_type": "code",
   "execution_count": 3,
   "id": "d98365a6-8b49-49d1-a052-cdbd282759c5",
   "metadata": {},
   "outputs": [],
   "source": [
    "def createDataSet():\n",
    "    group = np.array([[1.0, 1.1], [1.0, 1.0], [0,0], [0, 0.1]])\n",
    "    labels = ['A', 'A', 'B', 'B']\n",
    "    return group, labels"
   ]
  },
  {
   "cell_type": "code",
   "execution_count": 4,
   "id": "e9ff6d30-d2e9-4ea9-9fc1-f1f06d502d33",
   "metadata": {},
   "outputs": [],
   "source": [
    "group, labels = createDataSet()"
   ]
  },
  {
   "cell_type": "markdown",
   "id": "03b80ea5-563d-4824-9051-3ac53de08f65",
   "metadata": {},
   "source": [
    "np.tile(A, reps): Construct an array by repeating A the number of times given by reps."
   ]
  },
  {
   "cell_type": "code",
   "execution_count": 5,
   "id": "aa9955ee-2120-4a85-8999-f2148319f1be",
   "metadata": {},
   "outputs": [
    {
     "data": {
      "text/plain": [
       "(4, 2)"
      ]
     },
     "execution_count": 5,
     "metadata": {},
     "output_type": "execute_result"
    }
   ],
   "source": [
    "group.shape"
   ]
  },
  {
   "cell_type": "code",
   "execution_count": 6,
   "id": "042761b6-f63e-447c-a743-7603ef47eec8",
   "metadata": {},
   "outputs": [
    {
     "data": {
      "text/plain": [
       "array([[5, 5],\n",
       "       [5, 5],\n",
       "       [5, 5],\n",
       "       [5, 5],\n",
       "       [5, 5]])"
      ]
     },
     "execution_count": 6,
     "metadata": {},
     "output_type": "execute_result"
    }
   ],
   "source": [
    "np.tile(5, (5, 2))"
   ]
  },
  {
   "cell_type": "code",
   "execution_count": 6,
   "id": "9afd4825-d703-48b0-92fd-73c9bb3d435d",
   "metadata": {},
   "outputs": [],
   "source": [
    "def classifyZero(inX, data, labels, k):\n",
    "    data_set_size = data.shape[0]\n",
    "    # start of sqrt[ (a_0 - b_0)^2 + (a_1-b_1)^2 +...+(a_n-b_n)^2]\n",
    "    diff = np.tile(inX, (data_set_size, 1)) - data\n",
    "    sq_diff = diff**2 \n",
    "    sum_diff_sqrd = sq_diff.sum(axis=1) \n",
    "    sqrt_sum_of_diff_sqrd = sum_diff_sqrd**0.5\n",
    "    # end of sqrt....\n",
    "    distances_from_x = sqrt_sum_of_diff_sqrd\n",
    "    print(f'distance from x = {distances_from_x}')\n",
    "    sorted_distances = distances_from_x.argsort()\n",
    "    print(f'sorted distance = {sorted_distances}')\n",
    "    class_count = {}\n",
    "    print(f'the labels: {labels}')\n",
    "    for i in range(k):\n",
    "        print(f'i={i}')\n",
    "        vote_i_lable = labels[sorted_distances[i]]\n",
    "        print(f'sorted_distance[i]: {sorted_distances[i]}')\n",
    "        print(f'vote i lable: {vote_i_lable}')\n",
    "        class_count[vote_i_lable] = class_count.get(vote_i_lable, 0)+1\n",
    "        print('class count:', class_count)\n",
    "    sorted_class_count = sorted(class_count.items(), key=operator.itemgetter(1), reverse=True)\n",
    "    return sorted_class_count[0][0]"
   ]
  },
  {
   "cell_type": "code",
   "execution_count": 57,
   "id": "d66ed2e1-511f-4729-9c71-34dcaba1d117",
   "metadata": {},
   "outputs": [
    {
     "name": "stdout",
     "output_type": "stream",
     "text": [
      "distance from x = [1.48660687 1.41421356 0.         0.1       ]\n",
      "sorted distance = [2 3 1 0]\n",
      "the labels: ['A', 'A', 'B', 'B']\n",
      "i=0\n",
      "sorted_distance[i]: 2\n",
      "vote i lable: B\n",
      "class count: {'B': 1}\n",
      "i=1\n",
      "sorted_distance[i]: 3\n",
      "vote i lable: B\n",
      "class count: {'B': 2}\n",
      "i=2\n",
      "sorted_distance[i]: 1\n",
      "vote i lable: A\n",
      "class count: {'B': 2, 'A': 1}\n"
     ]
    },
    {
     "data": {
      "text/plain": [
       "'B'"
      ]
     },
     "execution_count": 57,
     "metadata": {},
     "output_type": "execute_result"
    }
   ],
   "source": [
    "classifyZero([0,0], group, labels, 3)"
   ]
  },
  {
   "cell_type": "code",
   "execution_count": 39,
   "id": "52492fbc-5eef-4a00-a21a-c7082c624618",
   "metadata": {},
   "outputs": [
    {
     "name": "stdout",
     "output_type": "stream",
     "text": [
      "[2, 1, 3, 0, 4, 5]\n",
      "[3 1 0 2 4 5]\n"
     ]
    }
   ],
   "source": [
    "import random\n",
    "a = [0, 1, 2, 3, 4, 5]\n",
    "b = [5, 4, 3, 2, 1, 0]\n",
    "c = [x for x in b]\n",
    "rng = np.random.default_rng()\n",
    "rng.shuffle(c)\n",
    "print(c)\n",
    "print(np.argsort(c))"
   ]
  },
  {
   "cell_type": "code",
   "execution_count": 71,
   "id": "0ef23626-16b8-4f88-a7b0-f4a7e3b7a86b",
   "metadata": {},
   "outputs": [],
   "source": [
    "def file2matrix(filename):\n",
    "    the_file = open(filename)\n",
    "    number_of_lines = len(the_file.readlines())\n",
    "    return_matrix = np.zeros((number_of_lines, 3))\n",
    "    class_label_vector = []\n",
    "    the_file = open(filename)\n",
    "    index = 0\n",
    "    for line in the_file.readlines():\n",
    "        line = line.strip()\n",
    "        list_from_line = line.split('\\t')\n",
    "        return_matrix[index, :] = list_from_line[0:3]\n",
    "        class_label_vector.append(int(list_from_line[-1]))\n",
    "        index += 1\n",
    "    return return_matrix, class_label_vector"
   ]
  },
  {
   "cell_type": "code",
   "execution_count": 70,
   "id": "16bda44f-e442-4962-9d07-30877a434adc",
   "metadata": {},
   "outputs": [
    {
     "ename": "ValueError",
     "evalue": "could not convert string to float: 'Cust ID'",
     "output_type": "error",
     "traceback": [
      "\u001b[0;31m---------------------------------------------------------------------------\u001b[0m",
      "\u001b[0;31mValueError\u001b[0m                                Traceback (most recent call last)",
      "\u001b[0;32m/tmp/ipykernel_32596/4010241343.py\u001b[0m in \u001b[0;36m<module>\u001b[0;34m\u001b[0m\n\u001b[0;32m----> 1\u001b[0;31m \u001b[0mfile2matrix\u001b[0m\u001b[0;34m(\u001b[0m\u001b[0mpath\u001b[0m\u001b[0;34m)\u001b[0m\u001b[0;34m\u001b[0m\u001b[0;34m\u001b[0m\u001b[0m\n\u001b[0m",
      "\u001b[0;32m/tmp/ipykernel_32596/2172621235.py\u001b[0m in \u001b[0;36mfile2matrix\u001b[0;34m(filename)\u001b[0m\n\u001b[1;32m      9\u001b[0m         \u001b[0mline\u001b[0m \u001b[0;34m=\u001b[0m \u001b[0mline\u001b[0m\u001b[0;34m.\u001b[0m\u001b[0mstrip\u001b[0m\u001b[0;34m(\u001b[0m\u001b[0;34m)\u001b[0m\u001b[0;34m\u001b[0m\u001b[0;34m\u001b[0m\u001b[0m\n\u001b[1;32m     10\u001b[0m         \u001b[0mlist_from_line\u001b[0m \u001b[0;34m=\u001b[0m \u001b[0mline\u001b[0m\u001b[0;34m.\u001b[0m\u001b[0msplit\u001b[0m\u001b[0;34m(\u001b[0m\u001b[0;34m','\u001b[0m\u001b[0;34m)\u001b[0m\u001b[0;34m\u001b[0m\u001b[0;34m\u001b[0m\u001b[0m\n\u001b[0;32m---> 11\u001b[0;31m         \u001b[0mreturn_matrix\u001b[0m\u001b[0;34m[\u001b[0m\u001b[0mindex\u001b[0m\u001b[0;34m,\u001b[0m \u001b[0;34m:\u001b[0m\u001b[0;34m]\u001b[0m \u001b[0;34m=\u001b[0m \u001b[0mlist_from_line\u001b[0m\u001b[0;34m[\u001b[0m\u001b[0;36m0\u001b[0m\u001b[0;34m:\u001b[0m\u001b[0;36m3\u001b[0m\u001b[0;34m]\u001b[0m\u001b[0;34m\u001b[0m\u001b[0;34m\u001b[0m\u001b[0m\n\u001b[0m\u001b[1;32m     12\u001b[0m         \u001b[0mclass_label_vector\u001b[0m\u001b[0;34m.\u001b[0m\u001b[0mappend\u001b[0m\u001b[0;34m(\u001b[0m\u001b[0mint\u001b[0m\u001b[0;34m(\u001b[0m\u001b[0mlist_from_line\u001b[0m\u001b[0;34m[\u001b[0m\u001b[0;34m-\u001b[0m\u001b[0;36m1\u001b[0m\u001b[0;34m]\u001b[0m\u001b[0;34m)\u001b[0m\u001b[0;34m)\u001b[0m\u001b[0;34m\u001b[0m\u001b[0;34m\u001b[0m\u001b[0m\n\u001b[1;32m     13\u001b[0m         \u001b[0mindex\u001b[0m \u001b[0;34m+=\u001b[0m \u001b[0;36m1\u001b[0m\u001b[0;34m\u001b[0m\u001b[0;34m\u001b[0m\u001b[0m\n",
      "\u001b[0;31mValueError\u001b[0m: could not convert string to float: 'Cust ID'"
     ]
    }
   ],
   "source": []
  },
  {
   "cell_type": "code",
   "execution_count": null,
   "id": "6fc88e3d-8cf6-45ca-8ce2-185b4016b298",
   "metadata": {},
   "outputs": [],
   "source": []
  }
 ],
 "metadata": {
  "kernelspec": {
   "display_name": "Python 3 (ipykernel)",
   "language": "python",
   "name": "python3"
  },
  "language_info": {
   "codemirror_mode": {
    "name": "ipython",
    "version": 3
   },
   "file_extension": ".py",
   "mimetype": "text/x-python",
   "name": "python",
   "nbconvert_exporter": "python",
   "pygments_lexer": "ipython3",
   "version": "3.10.2"
  }
 },
 "nbformat": 4,
 "nbformat_minor": 5
}
