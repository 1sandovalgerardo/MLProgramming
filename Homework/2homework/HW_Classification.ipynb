{
 "cells": [
  {
   "cell_type": "code",
   "execution_count": 1,
   "id": "3dc1ae50-b524-4592-aa60-c2c53aa6e640",
   "metadata": {},
   "outputs": [],
   "source": [
    "from collections import defaultdict\n",
    "import pandas as pd\n",
    "from sklearn.model_selection import train_test_split\n",
    "from sklearn.neighbors import KNeighborsClassifier as knn\n",
    "from sklearn.preprocessing import MinMaxScaler as minmax\n",
    "\n",
    "from sklearn.tree import DecisionTreeClassifier as dt\n",
    "from sklearn.tree import plot_tree\n",
    "\n",
    "from sklearn.metrics import confusion_matrix as cm\n",
    "from sklearn.metrics import plot_confusion_matrix, accuracy_score, classification_report\n",
    " \n",
    "import seaborn as sns"
   ]
  },
  {
   "cell_type": "markdown",
   "id": "cb94d894-7eed-46a3-9936-fbe5bf37443d",
   "metadata": {},
   "source": [
    "# A"
   ]
  },
  {
   "cell_type": "code",
   "execution_count": 2,
   "id": "0174bb1d-ad5f-4b44-b869-a25749aecee8",
   "metadata": {},
   "outputs": [],
   "source": [
    "data = pd.read_csv('adult-modified1.csv')\n",
    "data_dum = pd.get_dummies(data)"
   ]
  },
  {
   "cell_type": "code",
   "execution_count": 3,
   "id": "6e8f7a24-c540-4fbb-bc23-130fa41f2832",
   "metadata": {},
   "outputs": [
    {
     "data": {
      "text/html": [
       "<div>\n",
       "<style scoped>\n",
       "    .dataframe tbody tr th:only-of-type {\n",
       "        vertical-align: middle;\n",
       "    }\n",
       "\n",
       "    .dataframe tbody tr th {\n",
       "        vertical-align: top;\n",
       "    }\n",
       "\n",
       "    .dataframe thead th {\n",
       "        text-align: right;\n",
       "    }\n",
       "</style>\n",
       "<table border=\"1\" class=\"dataframe\">\n",
       "  <thead>\n",
       "    <tr style=\"text-align: right;\">\n",
       "      <th></th>\n",
       "      <th>age</th>\n",
       "      <th>education</th>\n",
       "      <th>hours-per-week</th>\n",
       "      <th>workclass_Private</th>\n",
       "      <th>workclass_Public</th>\n",
       "      <th>marital-status_Married</th>\n",
       "      <th>marital-status_Single</th>\n",
       "      <th>race_Amer-Indian</th>\n",
       "      <th>race_Asian</th>\n",
       "      <th>race_Black</th>\n",
       "      <th>race_Hispanic</th>\n",
       "      <th>race_White</th>\n",
       "      <th>sex_Female</th>\n",
       "      <th>sex_Male</th>\n",
       "      <th>income_&gt;50K</th>\n",
       "    </tr>\n",
       "  </thead>\n",
       "  <tbody>\n",
       "    <tr>\n",
       "      <th>0</th>\n",
       "      <td>39</td>\n",
       "      <td>13</td>\n",
       "      <td>40</td>\n",
       "      <td>0</td>\n",
       "      <td>1</td>\n",
       "      <td>0</td>\n",
       "      <td>1</td>\n",
       "      <td>0</td>\n",
       "      <td>0</td>\n",
       "      <td>0</td>\n",
       "      <td>0</td>\n",
       "      <td>1</td>\n",
       "      <td>0</td>\n",
       "      <td>1</td>\n",
       "      <td>0</td>\n",
       "    </tr>\n",
       "    <tr>\n",
       "      <th>1</th>\n",
       "      <td>50</td>\n",
       "      <td>13</td>\n",
       "      <td>13</td>\n",
       "      <td>0</td>\n",
       "      <td>0</td>\n",
       "      <td>1</td>\n",
       "      <td>0</td>\n",
       "      <td>0</td>\n",
       "      <td>0</td>\n",
       "      <td>0</td>\n",
       "      <td>0</td>\n",
       "      <td>1</td>\n",
       "      <td>0</td>\n",
       "      <td>1</td>\n",
       "      <td>0</td>\n",
       "    </tr>\n",
       "    <tr>\n",
       "      <th>2</th>\n",
       "      <td>38</td>\n",
       "      <td>9</td>\n",
       "      <td>40</td>\n",
       "      <td>1</td>\n",
       "      <td>0</td>\n",
       "      <td>0</td>\n",
       "      <td>1</td>\n",
       "      <td>0</td>\n",
       "      <td>0</td>\n",
       "      <td>0</td>\n",
       "      <td>0</td>\n",
       "      <td>1</td>\n",
       "      <td>0</td>\n",
       "      <td>1</td>\n",
       "      <td>0</td>\n",
       "    </tr>\n",
       "    <tr>\n",
       "      <th>3</th>\n",
       "      <td>53</td>\n",
       "      <td>7</td>\n",
       "      <td>40</td>\n",
       "      <td>1</td>\n",
       "      <td>0</td>\n",
       "      <td>1</td>\n",
       "      <td>0</td>\n",
       "      <td>0</td>\n",
       "      <td>0</td>\n",
       "      <td>1</td>\n",
       "      <td>0</td>\n",
       "      <td>0</td>\n",
       "      <td>0</td>\n",
       "      <td>1</td>\n",
       "      <td>0</td>\n",
       "    </tr>\n",
       "    <tr>\n",
       "      <th>4</th>\n",
       "      <td>28</td>\n",
       "      <td>13</td>\n",
       "      <td>40</td>\n",
       "      <td>1</td>\n",
       "      <td>0</td>\n",
       "      <td>1</td>\n",
       "      <td>0</td>\n",
       "      <td>0</td>\n",
       "      <td>0</td>\n",
       "      <td>1</td>\n",
       "      <td>0</td>\n",
       "      <td>0</td>\n",
       "      <td>1</td>\n",
       "      <td>0</td>\n",
       "      <td>0</td>\n",
       "    </tr>\n",
       "  </tbody>\n",
       "</table>\n",
       "</div>"
      ],
      "text/plain": [
       "   age  education  hours-per-week  workclass_Private  workclass_Public  \\\n",
       "0   39         13              40                  0                 1   \n",
       "1   50         13              13                  0                 0   \n",
       "2   38          9              40                  1                 0   \n",
       "3   53          7              40                  1                 0   \n",
       "4   28         13              40                  1                 0   \n",
       "\n",
       "   marital-status_Married  marital-status_Single  race_Amer-Indian  \\\n",
       "0                       0                      1                 0   \n",
       "1                       1                      0                 0   \n",
       "2                       0                      1                 0   \n",
       "3                       1                      0                 0   \n",
       "4                       1                      0                 0   \n",
       "\n",
       "   race_Asian  race_Black  race_Hispanic  race_White  sex_Female  sex_Male  \\\n",
       "0           0           0              0           1           0         1   \n",
       "1           0           0              0           1           0         1   \n",
       "2           0           0              0           1           0         1   \n",
       "3           0           1              0           0           0         1   \n",
       "4           0           1              0           0           1         0   \n",
       "\n",
       "   income_>50K  \n",
       "0            0  \n",
       "1            0  \n",
       "2            0  \n",
       "3            0  \n",
       "4            0  "
      ]
     },
     "execution_count": 3,
     "metadata": {},
     "output_type": "execute_result"
    }
   ],
   "source": [
    "data_dum.drop(['income_<=50K'], axis=1,inplace=True)\n",
    "Y = data_dum.pop('workclass_Self-emp')\n",
    "X = data_dum.copy()\n",
    "X.head()"
   ]
  },
  {
   "cell_type": "code",
   "execution_count": 4,
   "id": "fcf00adb-6a4d-433b-a317-e6db14701ffd",
   "metadata": {},
   "outputs": [],
   "source": [
    "x_train, x_test, y_train, y_test = train_test_split(X, Y, test_size=0.2)"
   ]
  },
  {
   "cell_type": "code",
   "execution_count": 5,
   "id": "02d34558-599d-44f2-bfd9-30fce55d9105",
   "metadata": {},
   "outputs": [
    {
     "name": "stdout",
     "output_type": "stream",
     "text": [
      "Train Data\n",
      "(7529, 15)\n",
      "(7529,)\n",
      "Test Data\n",
      "(1883, 15)\n",
      "(1883,)\n"
     ]
    }
   ],
   "source": [
    "print('Train Data')\n",
    "print(x_train.shape)\n",
    "print(y_train.shape)\n",
    "print('Test Data')\n",
    "print(x_test.shape)\n",
    "print(y_test.shape)"
   ]
  },
  {
   "cell_type": "markdown",
   "id": "dc8751cb-16d0-4643-9190-0d663e18a21c",
   "metadata": {},
   "source": [
    "# <center> B </center>"
   ]
  },
  {
   "cell_type": "markdown",
   "id": "eba6babd-7297-4f5a-8efb-cd8f0f54cdb4",
   "metadata": {},
   "source": [
    "## 1"
   ]
  },
  {
   "cell_type": "markdown",
   "id": "7446b6d2-2c9c-4cf4-8a76-870c750f40a0",
   "metadata": {},
   "source": [
    "Apply min max scaling to x train and test data"
   ]
  },
  {
   "cell_type": "code",
   "execution_count": 6,
   "id": "335e2bc4-a162-4830-afb0-5ad9b963cf76",
   "metadata": {},
   "outputs": [],
   "source": [
    "scaler = minmax()\n",
    "xtrain_scaled = scaler.fit_transform(x_train)\n",
    "xtest_scaled = scaler.fit_transform(x_test)"
   ]
  },
  {
   "cell_type": "markdown",
   "id": "458892d3-165b-4e7a-bd2f-1d5aae97aad1",
   "metadata": {},
   "source": [
    "Model the data using knn with k=10"
   ]
  },
  {
   "cell_type": "code",
   "execution_count": 7,
   "id": "cfd1172c-eecd-4e62-9916-7219919d630b",
   "metadata": {},
   "outputs": [
    {
     "data": {
      "text/plain": [
       "KNeighborsClassifier(n_neighbors=10)"
      ]
     },
     "execution_count": 7,
     "metadata": {},
     "output_type": "execute_result"
    }
   ],
   "source": [
    "knn_model = knn(n_neighbors=10)\n",
    "knn_model.fit(xtrain_scaled, y_train)"
   ]
  },
  {
   "cell_type": "code",
   "execution_count": 8,
   "id": "502fdef1-81ad-4ecc-8666-5c83bc5bb026",
   "metadata": {},
   "outputs": [],
   "source": [
    "knn_predictions = knn_model.predict(xtest_scaled)"
   ]
  },
  {
   "cell_type": "code",
   "execution_count": 9,
   "id": "ad461c1f-4910-465d-a66a-f3c2879d3877",
   "metadata": {},
   "outputs": [],
   "source": [
    "confusion_mat = cm(knn_predictions, y_test)\n"
   ]
  },
  {
   "cell_type": "code",
   "execution_count": 10,
   "id": "9c0a99af-50b2-49be-8940-ce0cb0e180bd",
   "metadata": {},
   "outputs": [
    {
     "name": "stderr",
     "output_type": "stream",
     "text": [
      "/home/gsandoval/.local/lib/python3.10/site-packages/sklearn/utils/deprecation.py:87: FutureWarning: Function plot_confusion_matrix is deprecated; Function `plot_confusion_matrix` is deprecated in 1.0 and will be removed in 1.2. Use one of the class methods: ConfusionMatrixDisplay.from_predictions or ConfusionMatrixDisplay.from_estimator.\n",
      "  warnings.warn(msg, category=FutureWarning)\n"
     ]
    },
    {
     "data": {
      "text/plain": [
       "<sklearn.metrics._plot.confusion_matrix.ConfusionMatrixDisplay at 0x7eff90a92d70>"
      ]
     },
     "execution_count": 10,
     "metadata": {},
     "output_type": "execute_result"
    },
    {
     "data": {
      "image/png": "[encoded data removed]",
      "text/plain": [
       "<Figure size 432x288 with 2 Axes>"
      ]
     },
     "metadata": {
      "needs_background": "light"
     },
     "output_type": "display_data"
    }
   ],
   "source": [
    "plot_confusion_matrix(knn_model, xtest_scaled, y_test)"
   ]
  },
  {
   "cell_type": "markdown",
   "id": "90f84780-8918-48c1-9ced-d41a62118cb8",
   "metadata": {},
   "source": [
    "Accuracy for both the training and test sets"
   ]
  },
  {
   "cell_type": "code",
   "execution_count": 11,
   "id": "b8ec0bdd-9ae0-4455-81e2-026126b4699d",
   "metadata": {},
   "outputs": [
    {
     "data": {
      "text/plain": [
       "array([[6602,   18],\n",
       "       [   0,  909]])"
      ]
     },
     "execution_count": 11,
     "metadata": {},
     "output_type": "execute_result"
    }
   ],
   "source": [
    "# Training Results\n",
    "train_predictions = knn_model.predict(xtrain_scaled)\n",
    "cm(train_predictions, y_train)"
   ]
  },
  {
   "cell_type": "code",
   "execution_count": 12,
   "id": "3507bbdc-c78f-4f82-8880-d98035660ee6",
   "metadata": {},
   "outputs": [
    {
     "data": {
      "text/plain": [
       "array([[1662,   11],\n",
       "       [   0,  210]])"
      ]
     },
     "execution_count": 12,
     "metadata": {},
     "output_type": "execute_result"
    }
   ],
   "source": [
    "# Testing Results\n",
    "confusion_mat"
   ]
  },
  {
   "cell_type": "markdown",
   "id": "893850c8-0bc2-4320-8c0c-e987751d74a1",
   "metadata": {},
   "source": [
    "### PLEASE NOTE\n",
    "2 and 3 are the same question asked in different ways. \n",
    "\n",
    "In 2 you ask us to compare different k's and different weights.\n",
    "\n",
    "In 3 you ask us again to compare with weight of uniform, which was done in 2"
   ]
  },
  {
   "cell_type": "markdown",
   "id": "e18de3de-54bb-445c-abd8-54ccc78eda50",
   "metadata": {
    "tags": []
   },
   "source": [
    "## 2"
   ]
  },
  {
   "cell_type": "code",
   "execution_count": 13,
   "id": "d24d98ad-8485-4fdc-bf84-793de5ee6cea",
   "metadata": {},
   "outputs": [],
   "source": [
    "k_values = [x for x in range(10,101, 10)]\n",
    "distance_acc = defaultdict()"
   ]
  },
  {
   "cell_type": "code",
   "execution_count": 14,
   "id": "a7b3ca15-66f6-460d-952b-155f70b60d24",
   "metadata": {},
   "outputs": [],
   "source": [
    "for k in k_values:\n",
    "    model = knn(n_neighbors=k, weights='distance')\n",
    "    model.fit(xtrain_scaled, y_train)\n",
    "    knn_predictions = knn_model.predict(xtest_scaled)\n",
    "    accuracy = accuracy_score(y_test, knn_predictions)\n",
    "    distance_acc[str(k)] = accuracy"
   ]
  },
  {
   "cell_type": "code",
   "execution_count": 15,
   "id": "f7bc1903-4791-429a-94cb-6e54cb33d80c",
   "metadata": {},
   "outputs": [
    {
     "data": {
      "text/plain": [
       "defaultdict(None,\n",
       "            {'10': 0.9941582580987786,\n",
       "             '20': 0.9941582580987786,\n",
       "             '30': 0.9941582580987786,\n",
       "             '40': 0.9941582580987786,\n",
       "             '50': 0.9941582580987786,\n",
       "             '60': 0.9941582580987786,\n",
       "             '70': 0.9941582580987786,\n",
       "             '80': 0.9941582580987786,\n",
       "             '90': 0.9941582580987786,\n",
       "             '100': 0.9941582580987786})"
      ]
     },
     "execution_count": 15,
     "metadata": {},
     "output_type": "execute_result"
    }
   ],
   "source": [
    "distance_acc"
   ]
  },
  {
   "cell_type": "markdown",
   "id": "b964929a-9112-43bc-a6c8-8fdeaa9076f5",
   "metadata": {},
   "source": [
    "## 3"
   ]
  },
  {
   "cell_type": "code",
   "execution_count": 37,
   "id": "543494ee-dee7-4499-9cb4-ad67a890f55c",
   "metadata": {},
   "outputs": [
    {
     "data": {
      "text/plain": [
       "defaultdict(None,\n",
       "            {'10': 0.9941582580987786,\n",
       "             '20': 0.9941582580987786,\n",
       "             '30': 0.9941582580987786,\n",
       "             '40': 0.9941582580987786,\n",
       "             '50': 0.9941582580987786,\n",
       "             '60': 0.9941582580987786,\n",
       "             '70': 0.9941582580987786,\n",
       "             '80': 0.9941582580987786,\n",
       "             '90': 0.9941582580987786,\n",
       "             '100': 0.9941582580987786})"
      ]
     },
     "execution_count": 37,
     "metadata": {},
     "output_type": "execute_result"
    }
   ],
   "source": [
    "k_values = [x for x in range(10,101, 10)]\n",
    "uniform_acc = defaultdict()\n",
    "\n",
    "for k in k_values:\n",
    "    model = knn(n_neighbors=k, weights='uniform')\n",
    "    model.fit(xtrain_scaled, y_train)\n",
    "    knn_predictions = knn_model.predict(xtest_scaled)\n",
    "    accuracy = accuracy_score(y_test, knn_predictions)\n",
    "    uniform_acc[str(k)] = accuracy\n",
    "    \n",
    "uniform_acc"
   ]
  },
  {
   "cell_type": "markdown",
   "id": "16beaa74-0f83-4654-ac8e-1772fdbe3915",
   "metadata": {},
   "source": [
    "It appears that all values of k result in identical results.\n",
    "There must be something wrong with the code. I can not figure out where it is wrong."
   ]
  },
  {
   "cell_type": "code",
   "execution_count": 38,
   "id": "54b6fc7e-5973-4d8e-a3dd-d5ed933397ec",
   "metadata": {},
   "outputs": [],
   "source": [
    "index1 = distance_acc.keys()\n",
    "values1 = distance_acc.values()\n",
    "joint_data = pd.DataFrame(data=values1, index=index1)\n",
    "joint_data.columns = ['Distance_Accuracy']"
   ]
  },
  {
   "cell_type": "code",
   "execution_count": 39,
   "id": "e4c61260-ed8e-4dc5-970a-5e0d798fc124",
   "metadata": {},
   "outputs": [],
   "source": [
    "joint_data['Uniform_Accuracy'] = uniform_acc.values()\n",
    "joint_data['X'] = joint_data.index"
   ]
  },
  {
   "cell_type": "code",
   "execution_count": 40,
   "id": "5c4abdb7-aff0-49cc-8574-71dc0e2c3f12",
   "metadata": {},
   "outputs": [],
   "source": [
    "joint_data = pd.melt(joint_data, id_vars=['X'],\n",
    "                     value_vars=['Distance_Accuracy', 'Uniform_Accuracy'],\n",
    "                     var_name='Distance_Type', value_name='Accuracy')"
   ]
  },
  {
   "cell_type": "code",
   "execution_count": 41,
   "id": "01bdd9db-a1f3-40c8-8c07-58e858f1759e",
   "metadata": {},
   "outputs": [
    {
     "data": {
      "text/plain": [
       "<AxesSubplot:xlabel='X', ylabel='Accuracy'>"
      ]
     },
     "execution_count": 41,
     "metadata": {},
     "output_type": "execute_result"
    },
    {
     "data": {
      "image/png": "[encoded data removed]",
      "text/plain": [
       "<Figure size 432x288 with 1 Axes>"
      ]
     },
     "metadata": {
      "needs_background": "light"
     },
     "output_type": "display_data"
    }
   ],
   "source": [
    "sns.scatterplot(data=joint_data, x='X', y='Accuracy', hue='Distance_Type',\n",
    "               markers='Distance_Type', alpha=0.5)"
   ]
  },
  {
   "cell_type": "markdown",
   "id": "d5b0de7c-bbe8-4b7c-a1fb-0acd494552b0",
   "metadata": {},
   "source": [
    "Please note the distance accuracy does not appear because it lies beneath the Uniform accuracy"
   ]
  },
  {
   "cell_type": "markdown",
   "id": "237618da-08ed-4098-a404-bec10533ae3c",
   "metadata": {},
   "source": [
    "# C"
   ]
  },
  {
   "cell_type": "code",
   "execution_count": 42,
   "id": "95a14034-351a-41f9-9ef7-e355486a48ac",
   "metadata": {},
   "outputs": [],
   "source": [
    "dt_model = dt()\n",
    "dt_model.fit(x_train, y_train)\n",
    "dt_prediction = dt_model.predict(x_test)\n",
    "accuracy = accuracy_score(y_test, dt_prediction)\n",
    "dt_cm = cm(y_test, dt_prediction)\n",
    "report = classification_report(y_test, dt_prediction)"
   ]
  },
  {
   "cell_type": "code",
   "execution_count": 43,
   "id": "d93fcdbd-134e-426d-9d27-7196df118441",
   "metadata": {},
   "outputs": [
    {
     "name": "stdout",
     "output_type": "stream",
     "text": [
      "Accuracy:  1.0\n",
      "confusion matrix:\n",
      "[[1662    0]\n",
      " [   0  221]]\n",
      "              precision    recall  f1-score   support\n",
      "\n",
      "           0       1.00      1.00      1.00      1662\n",
      "           1       1.00      1.00      1.00       221\n",
      "\n",
      "    accuracy                           1.00      1883\n",
      "   macro avg       1.00      1.00      1.00      1883\n",
      "weighted avg       1.00      1.00      1.00      1883\n",
      "\n"
     ]
    }
   ],
   "source": [
    "print('Accuracy: ',accuracy)\n",
    "print('confusion matrix:')\n",
    "print(dt_cm)\n",
    "print(report)"
   ]
  },
  {
   "cell_type": "markdown",
   "id": "1e0ec2d3-87bb-4d92-aa70-5594546e1e23",
   "metadata": {},
   "source": [
    "Being that we have a perfect fit on test data, we can see that we have overfit the data.  \n",
    "Thus, there is no trade-off at this point."
   ]
  },
  {
   "cell_type": "code",
   "execution_count": 44,
   "id": "222adf19-507f-410b-934b-d24dd8b714e3",
   "metadata": {},
   "outputs": [],
   "source": [
    "dt_model = dt(criterion='gini', min_samples_split=10, max_depth=4)\n",
    "dt_model.fit(x_train, y_train)\n",
    "dt_prediction = dt_model.predict(x_test)\n",
    "train_prediction = dt_model.predict(x_train)\n",
    "train_accuracy = accuracy_score(y_train, train_prediction)\n",
    "test_accuracy = accuracy_score(y_test, dt_prediction)\n",
    "dt_cm = cm(y_test, dt_prediction)\n",
    "report = classification_report(y_test, dt_prediction)"
   ]
  },
  {
   "cell_type": "code",
   "execution_count": 45,
   "id": "643d24c9-b504-4286-8a84-1757a30ea8bb",
   "metadata": {},
   "outputs": [
    {
     "name": "stdout",
     "output_type": "stream",
     "text": [
      "Train Accuracy: 1.0 | Test Accuracy: 1.0\n"
     ]
    }
   ],
   "source": [
    "print(f'Train Accuracy: {train_accuracy} | Test Accuracy: {test_accuracy}')"
   ]
  },
  {
   "cell_type": "code",
   "execution_count": 46,
   "id": "5f2be438-f779-47c6-b708-5e7faa19a92e",
   "metadata": {},
   "outputs": [
    {
     "data": {
      "text/plain": [
       "[Text(0.6, 0.8333333333333334, 'X[3] <= 0.5\\ngini = 0.216\\nsamples = 7529\\nvalue = [6602, 927]'),\n",
       " Text(0.4, 0.5, 'X[4] <= 0.5\\ngini = 0.498\\nsamples = 1990\\nvalue = [1063, 927]'),\n",
       " Text(0.2, 0.16666666666666666, 'gini = 0.0\\nsamples = 927\\nvalue = [0, 927]'),\n",
       " Text(0.6, 0.16666666666666666, 'gini = 0.0\\nsamples = 1063\\nvalue = [1063, 0]'),\n",
       " Text(0.8, 0.5, 'gini = 0.0\\nsamples = 5539\\nvalue = [5539, 0]')]"
      ]
     },
     "execution_count": 46,
     "metadata": {},
     "output_type": "execute_result"
    },
    {
     "data": {
      "image/png": "[encoded data removed]",
      "text/plain": [
       "<Figure size 432x288 with 1 Axes>"
      ]
     },
     "metadata": {
      "needs_background": "light"
     },
     "output_type": "display_data"
    }
   ],
   "source": [
    "plot_tree(dt_model)"
   ]
  },
  {
   "cell_type": "markdown",
   "id": "1e14e843-4886-466f-89d3-1fdf37675c9b",
   "metadata": {},
   "source": [
    "# D"
   ]
  },
  {
   "cell_type": "code",
   "execution_count": 47,
   "id": "5354d975-6e0f-497d-8964-1c531303b4a9",
   "metadata": {},
   "outputs": [],
   "source": [
    "from sklearn.naive_bayes import GaussianNB\n",
    "from sklearn.model_selection import cross_val_score"
   ]
  },
  {
   "cell_type": "code",
   "execution_count": 48,
   "id": "d0100dd2-6a28-4903-9f0c-78f570cd8c90",
   "metadata": {},
   "outputs": [],
   "source": [
    "from sklearn.discriminant_analysis import LinearDiscriminantAnalysis as lda"
   ]
  },
  {
   "cell_type": "markdown",
   "id": "19c277e6-b99e-4211-9496-598b8e419f82",
   "metadata": {},
   "source": [
    "### Naive Bayes"
   ]
  },
  {
   "cell_type": "code",
   "execution_count": 49,
   "id": "eb196c49-38da-4126-93bb-f8dd45c3ac28",
   "metadata": {},
   "outputs": [],
   "source": [
    "nb_model = GaussianNB()\n",
    "nb_model.fit(x_train, y_train)\n",
    "scores = cross_val_score(nb_model, x_train, y_train, cv=10)"
   ]
  },
  {
   "cell_type": "code",
   "execution_count": 50,
   "id": "7afae88f-8902-4cbd-9080-1f4acb4023cc",
   "metadata": {},
   "outputs": [
    {
     "name": "stdout",
     "output_type": "stream",
     "text": [
      "scores:  [0.99867198 0.99335989 0.99601594 0.99734396 0.99734396 0.99468792\n",
      " 1.         0.99734396 0.99601594 0.99734043]\n",
      "avg:  0.9968123958068436\n"
     ]
    }
   ],
   "source": [
    "print('scores: ', scores)\n",
    "print('avg: ', scores.mean())\n"
   ]
  },
  {
   "cell_type": "code",
   "execution_count": 51,
   "id": "171e6a10-46cd-4f31-9739-d3397416dd2a",
   "metadata": {},
   "outputs": [
    {
     "data": {
      "text/plain": [
       "0.9946893255443441"
      ]
     },
     "execution_count": 51,
     "metadata": {},
     "output_type": "execute_result"
    }
   ],
   "source": [
    "test_prediction = nb_model.predict(x_test)\n",
    "test_accuracy = accuracy_score(y_test, test_prediction)\n",
    "test_accuracy"
   ]
  },
  {
   "cell_type": "markdown",
   "id": "4cdf7b00-82c8-49ca-8d2d-0e9e5f22580e",
   "metadata": {},
   "source": [
    "### LDA"
   ]
  },
  {
   "cell_type": "code",
   "execution_count": 52,
   "id": "6270ea04-d1e8-429b-803b-dfe0531a96e3",
   "metadata": {},
   "outputs": [],
   "source": [
    "lda_model = lda()\n",
    "lda_model.fit(x_train, y_train)\n",
    "lda_scores = cross_val_score(lda_model, x_train, y_train, cv=10)"
   ]
  },
  {
   "cell_type": "code",
   "execution_count": 53,
   "id": "87613069-9446-4e19-afa1-ae1554b48769",
   "metadata": {},
   "outputs": [
    {
     "name": "stdout",
     "output_type": "stream",
     "text": [
      "scores:  [0.81673307 0.83798141 0.80743692 0.83266932 0.82602922 0.84196547\n",
      " 0.82735724 0.83532537 0.81407703 0.82579787]\n",
      "avg:  0.8265372905540957\n"
     ]
    }
   ],
   "source": [
    "print('scores: ', lda_scores)\n",
    "print('avg: ', lda_scores.mean())"
   ]
  },
  {
   "cell_type": "code",
   "execution_count": 54,
   "id": "9b87e1d2-15d6-4cc0-804e-88f66205832e",
   "metadata": {},
   "outputs": [
    {
     "data": {
      "text/plain": [
       "0.8422729686670207"
      ]
     },
     "execution_count": 54,
     "metadata": {},
     "output_type": "execute_result"
    }
   ],
   "source": [
    "test_prediction = lda_model.predict(x_test)\n",
    "test_accuracy = accuracy_score(y_test, test_prediction)\n",
    "test_accuracy"
   ]
  },
  {
   "cell_type": "markdown",
   "id": "a2049651-4446-4866-86e2-c644ba79ee29",
   "metadata": {},
   "source": [
    "LDA performed the worst out of all the models.  It is interesting to see that LDA cross validate performed better than the model on the test data."
   ]
  },
  {
   "cell_type": "code",
   "execution_count": null,
   "id": "851ff551-b2f2-4e1e-abd9-9d3fe88578b2",
   "metadata": {},
   "outputs": [],
   "source": []
  }
 ],
 "metadata": {
  "kernelspec": {
   "display_name": "Python 3 (ipykernel)",
   "language": "python",
   "name": "python3"
  },
  "language_info": {
   "codemirror_mode": {
    "name": "ipython",
    "version": 3
   },
   "file_extension": ".py",
   "mimetype": "text/x-python",
   "name": "python",
   "nbconvert_exporter": "python",
   "pygments_lexer": "ipython3",
   "version": "3.10.2"
  }
 },
 "nbformat": 4,
 "nbformat_minor": 5
}
