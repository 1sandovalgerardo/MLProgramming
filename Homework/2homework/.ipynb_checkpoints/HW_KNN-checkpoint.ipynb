{
 "cells": [
  {
   "cell_type": "code",
   "execution_count": 72,
   "id": "3f49af99-1bd9-4430-8076-e335db107146",
   "metadata": {},
   "outputs": [],
   "source": [
    "import pandas as pd\n",
    "import numpy as np\n",
    "import seaborn as sns\n",
    "from collections import defaultdict, Counter\n",
    "import matplotlib.pyplot as plt"
   ]
  },
  {
   "cell_type": "code",
   "execution_count": 53,
   "id": "47da0ad5-4144-436b-b82d-2cdb4852c546",
   "metadata": {},
   "outputs": [],
   "source": [
    "train_path = 'newsgroups/trainMatrixModified.txt'\n",
    "test_path = 'newsgroups/testMatrixModified.txt'\n",
    "train_labels_path = 'newsgroups/trainClasses.txt'\n",
    "test_labels_path = 'newsgroups/testClasses.txt'\n",
    "words_path = 'newsgroups/modifiedterms.txt'"
   ]
  },
  {
   "cell_type": "code",
   "execution_count": 54,
   "id": "5ce4a69d-b108-4060-9248-ae908d6e8da7",
   "metadata": {},
   "outputs": [],
   "source": [
    "# Load data in dataframe\n",
    "train_data_df = pd.read_csv(train_path, delimiter='\\t', header=None)\n",
    "test_data_df = pd.read_csv(test_path, delimiter='\\t', header=None)"
   ]
  },
  {
   "cell_type": "code",
   "execution_count": 55,
   "id": "b0577df9-6b02-421a-ba5f-cd86910b9f8b",
   "metadata": {},
   "outputs": [],
   "source": [
    "# Load data via numpy and Transpose\n",
    "train_data = pd.read_table(train_path, delimiter='\\t', header=None)\n",
    "test_data = pd.read_table(test_path, delimiter='\\t', header=None)\n",
    "train_labels = pd.read_table(train_labels_path, delimiter='\\t', header=None, index_col=0)\n",
    "test_labels = pd.read_table(test_labels_path, delimiter='\\t', header=None, index_col=0)"
   ]
  },
  {
   "cell_type": "code",
   "execution_count": 56,
   "id": "496c383d-5acb-4b6e-8724-3ad6c92f193a",
   "metadata": {},
   "outputs": [
    {
     "name": "stdout",
     "output_type": "stream",
     "text": [
      "There are 800 documents and 5500 unique words\n",
      "Training Data Details\n",
      "shape:  (5500, 800)\n",
      "dimensions:  2\n",
      "num of unique values: 69\n",
      "Test Data Details\n",
      "(5500, 200)\n"
     ]
    }
   ],
   "source": [
    "print('There are 800 documents and 5500 unique words')\n",
    "print('Training Data Details')\n",
    "print('shape: ',train_data.shape)\n",
    "print('dimensions: ', train_data.ndim)\n",
    "print('num of unique values:', len(np.unique(train_data)))\n",
    "print('Test Data Details')\n",
    "print(test_data.shape)"
   ]
  },
  {
   "cell_type": "markdown",
   "id": "13b14eca-a79c-44fd-81cc-3f6f4a75be1d",
   "metadata": {},
   "source": [
    "Because of this we want to transpoe the data so that rows are documents and columns are the words."
   ]
  },
  {
   "cell_type": "code",
   "execution_count": 57,
   "id": "2e82abf1-c237-48d1-a7ef-299b40ccf04c",
   "metadata": {},
   "outputs": [],
   "source": [
    "train_data = train_data.transpose()\n",
    "test_data = test_data.transpose()"
   ]
  },
  {
   "cell_type": "code",
   "execution_count": 58,
   "id": "64ee94c4-0d8a-420f-be71-095bfe725012",
   "metadata": {},
   "outputs": [],
   "source": [
    "train_labels = np.array(train_labels).flatten()\n",
    "test_labels = np.array(train_labels).flatten()"
   ]
  },
  {
   "cell_type": "code",
   "execution_count": 59,
   "id": "4b62feb3-08ef-4e81-9765-2b4b8bdad585",
   "metadata": {},
   "outputs": [
    {
     "name": "stdout",
     "output_type": "stream",
     "text": [
      "(800,)\n",
      "1\n"
     ]
    }
   ],
   "source": [
    "words = np.loadtxt(words_path,dtype='object', delimiter='\\t')\n",
    "print(train_labels.shape)\n",
    "print(train_labels.ndim)"
   ]
  },
  {
   "cell_type": "markdown",
   "id": "d2682c4c-4f39-4164-92d1-4095216f7744",
   "metadata": {
    "tags": []
   },
   "source": [
    "# Part a"
   ]
  },
  {
   "cell_type": "code",
   "execution_count": 60,
   "id": "5b462426-4690-4bf0-97df-60f5942d3fc2",
   "metadata": {},
   "outputs": [
    {
     "name": "stdout",
     "output_type": "stream",
     "text": [
      "0      2.0\n",
      "1      0.0\n",
      "2      0.0\n",
      "3      2.0\n",
      "4      2.0\n",
      "      ... \n",
      "795    0.0\n",
      "796    0.0\n",
      "797    0.0\n",
      "798    0.0\n",
      "799    0.0\n",
      "Name: 0, Length: 800, dtype: float64\n",
      "800\n"
     ]
    }
   ],
   "source": [
    "target = train_data[0]\n",
    "print(target)\n",
    "print(len(target))"
   ]
  },
  {
   "cell_type": "code",
   "execution_count": 10,
   "id": "71aad99b-a439-4b0c-a058-82fe30d0d582",
   "metadata": {},
   "outputs": [],
   "source": [
    "def knn_class(target, data, labels, k, dist=None):\n",
    "    neighbors_index, distances = knn_neighbors(target, data, labels, k, dist)\n",
    "    neighbors_labels = labels[neighbors_index]\n",
    "    count = Counter(neighbors_labels)\n",
    "    predicted_label = count.most_common(1)[0][0]\n",
    "    return neighbors_index, predicted_label\n",
    "\n",
    "def knn_neighbors(target, data, labels, k, dist=None):\n",
    "    '''returns the index of the k nearest neighbors and a distance matrix\n",
    "    of all distances'''\n",
    "    if dist:\n",
    "        data_m = np.array([np.linalg.norm(data[i]) for i in range(len(data))])\n",
    "        target_m = np.linalg.norm(target)\n",
    "        cosine = np.dot(data, target) / (data_m * target_m)\n",
    "        distance = 1 - cosine\n",
    "    else:\n",
    "        distance = np.sqrt(((data-target)**2).sum(axis=1))\n",
    "    index = np.argsort(distance)\n",
    "    return index[:k], distance"
   ]
  },
  {
   "cell_type": "code",
   "execution_count": 11,
   "id": "fa313997-743e-440d-a063-b5227a017620",
   "metadata": {},
   "outputs": [
    {
     "name": "stdout",
     "output_type": "stream",
     "text": [
      "0\n"
     ]
    }
   ],
   "source": [
    "dist, label = knn_class(target, train_data, train_labels, 5)\n",
    "print(label)"
   ]
  },
  {
   "cell_type": "markdown",
   "id": "c490218e-7e8d-430a-828e-f4591db12961",
   "metadata": {
    "tags": []
   },
   "source": [
    "# B"
   ]
  },
  {
   "cell_type": "code",
   "execution_count": 12,
   "id": "9d7b62fb-2d68-4ba5-95cf-4bd2b33a121c",
   "metadata": {},
   "outputs": [],
   "source": [
    "def knn_evaluation(train_data, train_labels, test_data, test_labels, k, dist=None):\n",
    "    errors = 0\n",
    "    length = test_data.shape[0]\n",
    "    for i in range(length):\n",
    "        target = test_data.loc[i, :]\n",
    "        _, target_class = knn_class(target, train_data, train_labels, k, dist)\n",
    "        if target_class != test_labels[i]:\n",
    "            errors += 1\n",
    "    return round(errors / length, 2)\n"
   ]
  },
  {
   "cell_type": "code",
   "execution_count": 14,
   "id": "0bc4528c-ae8d-4eee-ac28-9dfd4ac0a854",
   "metadata": {},
   "outputs": [
    {
     "name": "stdout",
     "output_type": "stream",
     "text": [
      "CPU times: user 4.35 s, sys: 1.24 s, total: 5.6 s\n",
      "Wall time: 5.62 s\n"
     ]
    },
    {
     "data": {
      "text/plain": [
       "0.53"
      ]
     },
     "execution_count": 14,
     "metadata": {},
     "output_type": "execute_result"
    }
   ],
   "source": [
    "%%time\n",
    "knn_evaluation(train_data, train_labels, test_data, test_labels, 4)"
   ]
  },
  {
   "cell_type": "markdown",
   "id": "8c1ccc40-8a46-4820-92b4-1cefb790c72e",
   "metadata": {
    "tags": []
   },
   "source": [
    "# C"
   ]
  },
  {
   "cell_type": "code",
   "execution_count": 22,
   "id": "f448d1bc-7ffe-42db-8c44-52f986666454",
   "metadata": {},
   "outputs": [],
   "source": [
    "ks = [x for x in range(0, 101, 5)][1:]"
   ]
  },
  {
   "cell_type": "code",
   "execution_count": 23,
   "id": "fb753f5f-2e2b-4529-93e5-5cb92775fdce",
   "metadata": {},
   "outputs": [],
   "source": [
    "euclid = []"
   ]
  },
  {
   "cell_type": "code",
   "execution_count": 157,
   "id": "931284fa-0f57-4949-8a0d-630818784e64",
   "metadata": {},
   "outputs": [],
   "source": [
    "cosine = []"
   ]
  },
  {
   "cell_type": "code",
   "execution_count": 25,
   "id": "acb709c8-b3ab-41d6-a707-2bb7adf7aea4",
   "metadata": {},
   "outputs": [
    {
     "name": "stdout",
     "output_type": "stream",
     "text": [
      "5/100 | 10/100 | 15/100 | 20/100 | 25/100 | 30/100 | 35/100 | 40/100 | 45/100 | 50/100 | 55/100 | 60/100 | 65/100 | 70/100 | 75/100 | 80/100 | 85/100 | 90/100 | 95/100 | 100/100 | CPU times: user 1min 27s, sys: 25.1 s, total: 1min 53s\n",
      "Wall time: 1min 53s\n"
     ]
    }
   ],
   "source": [
    "%%time\n",
    "for k in ks:\n",
    "    euclid.append(knn_evaluation(train_data, train_labels, \n",
    "                                 test_data, test_labels,\n",
    "                                 k))\n",
    "    print(f'{k}/{max(ks)}', end=' | ')"
   ]
  },
  {
   "cell_type": "code",
   "execution_count": 158,
   "id": "54cf2be5-2232-45f1-8971-e7f2df3feb40",
   "metadata": {},
   "outputs": [
    {
     "name": "stdout",
     "output_type": "stream",
     "text": [
      "5/100 | 10/100 | 15/100 | 20/100 | 25/100 | 30/100 | 35/100 | 40/100 | 45/100 | 50/100 | 55/100 | 60/100 | 65/100 | 70/100 | 75/100 | 80/100 | 85/100 | 90/100 | 95/100 | 100/100 | CPU times: user 2min 2s, sys: 4min 24s, total: 6min 27s\n",
      "Wall time: 49.8 s\n"
     ]
    }
   ],
   "source": [
    "%%time \n",
    "for k in ks:\n",
    "    cosine.append(knn_evaluation(train_data, train_labels, \n",
    "                                 test_data, test_labels,\n",
    "                                 k, dist=True))\n",
    "    print(f'{k}/{max(ks)}', end=' | ')"
   ]
  },
  {
   "cell_type": "code",
   "execution_count": 30,
   "id": "6583314f-c7c8-4707-80bd-6c32ee3cce79",
   "metadata": {},
   "outputs": [
    {
     "name": "stdout",
     "output_type": "stream",
     "text": [
      "20\n",
      "20\n"
     ]
    }
   ],
   "source": [
    "print(len(euclid))\n",
    "print(len(cosine))\n",
    "with open('euclid', 'w') as the_file:\n",
    "    for i in euclid:\n",
    "        the_file.write(f'{i},')"
   ]
  },
  {
   "cell_type": "code",
   "execution_count": 31,
   "id": "8d3bbdc3-7257-484a-b5fe-5b46e94e58a9",
   "metadata": {},
   "outputs": [],
   "source": [
    "with open('cosine', 'w') as the_file:\n",
    "    for i in cosine:\n",
    "        the_file.write(f'{i},')"
   ]
  },
  {
   "cell_type": "code",
   "execution_count": 159,
   "id": "310c7d2a-0a4e-456b-92e9-ca350d469332",
   "metadata": {},
   "outputs": [
    {
     "data": {
      "text/plain": [
       "[Text(0.5, 1.0, 'knn Accuracy')]"
      ]
     },
     "execution_count": 159,
     "metadata": {},
     "output_type": "execute_result"
    },
    {
     "data": {
      "image/png": "[encoded data removed]",
      "text/plain": [
       "<Figure size 432x288 with 1 Axes>"
      ]
     },
     "metadata": {
      "needs_background": "light"
     },
     "output_type": "display_data"
    }
   ],
   "source": [
    "plot_data = pd.DataFrame({'X':ks, 'Euclid':euclid, 'Cosine':cosine})\n",
    "plot_data = pd.melt(plot_data, id_vars=['X'], value_vars=['Euclid', 'Cosine'],\n",
    "                   var_name='Distance Type', value_name='Accuracy')\n",
    "sns.lineplot(data=plot_data, x='X', y='Accuracy', hue='Distance Type').set(title='knn Accuracy')"
   ]
  },
  {
   "cell_type": "markdown",
   "id": "af2a7ae5-f55c-4078-8c2d-94a7e81ea627",
   "metadata": {},
   "source": [
    "# D"
   ]
  },
  {
   "cell_type": "code",
   "execution_count": 160,
   "id": "aaeb35bd-f3c8-46e4-888d-6d5271e1cbac",
   "metadata": {},
   "outputs": [],
   "source": [
    "# TD = data\n",
    "# DF = doc frequency\n",
    "# NMatrix = shape_matrix\n",
    "# IDF = idf \n",
    "def tfidf_transform(data):\n",
    "    word_freq = data.sum(axis=1)\n",
    "    num_of_docs, num_of_words = data.shape\n",
    "    doc_freq = pd.DataFrame([(data != 0).sum(1)]).T\n",
    "    shape_matrix = np.ones(np.shape(data), dtype=float) * num_of_docs\n",
    "    idf = np.log2(np.divide(shape_matrix, np.array(doc_freq)))\n",
    "    td_tfidf = data * idf\n",
    "    return td_tfidf"
   ]
  },
  {
   "cell_type": "code",
   "execution_count": 161,
   "id": "9a1eab75-1844-497f-a773-0067e7ad5715",
   "metadata": {},
   "outputs": [],
   "source": [
    "idf_train_data = tfidf_transform(train_data)\n",
    "idf_test_data = tfidf_transform(test_data)"
   ]
  },
  {
   "cell_type": "code",
   "execution_count": 162,
   "id": "cb4a696a-a901-48aa-8622-6cb165805e35",
   "metadata": {},
   "outputs": [],
   "source": [
    "idf_cosine = []"
   ]
  },
  {
   "cell_type": "code",
   "execution_count": 163,
   "id": "d3da25d2-ffc9-42e4-88f1-9a4c03ef7c8f",
   "metadata": {},
   "outputs": [
    {
     "name": "stdout",
     "output_type": "stream",
     "text": [
      "5/100 | 10/100 | 15/100 | 20/100 | 25/100 | 30/100 | 35/100 | 40/100 | 45/100 | 50/100 | 55/100 | 60/100 | 65/100 | 70/100 | 75/100 | 80/100 | 85/100 | 90/100 | 95/100 | 100/100 | CPU times: user 2min 4s, sys: 4min 33s, total: 6min 38s\n",
      "Wall time: 51.6 s\n"
     ]
    }
   ],
   "source": [
    "%%time\n",
    "for k in ks:\n",
    "    idf_cosine.append(knn_evaluation(idf_train_data, train_labels, \n",
    "                                 idf_test_data, test_labels,\n",
    "                                 k, dist=True))\n",
    "    print(f'{k}/{max(ks)}', end=' | ')"
   ]
  },
  {
   "cell_type": "code",
   "execution_count": 164,
   "id": "0b0ee32d-9183-44cd-91fa-3e9635cce125",
   "metadata": {},
   "outputs": [
    {
     "data": {
      "text/plain": [
       "[Text(0.5, 1.0, 'knn Accuracy')]"
      ]
     },
     "execution_count": 164,
     "metadata": {},
     "output_type": "execute_result"
    },
    {
     "data": {
      "image/png": "[encoded data removed]",
      "text/plain": [
       "<Figure size 432x288 with 1 Axes>"
      ]
     },
     "metadata": {
      "needs_background": "light"
     },
     "output_type": "display_data"
    }
   ],
   "source": [
    "plot_data = pd.DataFrame({'X':ks, 'Cosine':cosine, 'IDFCosine':idf_cosine})\n",
    "plot_data = pd.melt(plot_data, id_vars=['X'], value_vars=['Cosine', 'IDFCosine'],\n",
    "                   var_name='Distance Type', value_name='Accuracy')\n",
    "sns.lineplot(data=plot_data, x='X', y='Accuracy', hue='Distance Type').set(title='knn Accuracy')"
   ]
  },
  {
   "cell_type": "markdown",
   "id": "7ba44358-2299-4eb5-b9a1-31b3c966174d",
   "metadata": {},
   "source": [
    "# E"
   ]
  },
  {
   "cell_type": "code",
   "execution_count": null,
   "id": "7eae8fd7-c958-4767-a04b-94cbc8689a28",
   "metadata": {},
   "outputs": [],
   "source": []
  }
 ],
 "metadata": {
  "kernelspec": {
   "display_name": "Python 3 (ipykernel)",
   "language": "python",
   "name": "python3"
  },
  "language_info": {
   "codemirror_mode": {
    "name": "ipython",
    "version": 3
   },
   "file_extension": ".py",
   "mimetype": "text/x-python",
   "name": "python",
   "nbconvert_exporter": "python",
   "pygments_lexer": "ipython3",
   "version": "3.10.2"
  }
 },
 "nbformat": 4,
 "nbformat_minor": 5
}
