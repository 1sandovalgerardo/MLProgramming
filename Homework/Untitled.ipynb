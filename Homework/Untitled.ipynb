{
 "cells": [
  {
   "cell_type": "code",
   "execution_count": 1,
   "id": "83031163-512c-4eff-90ba-3cb63f70897c",
   "metadata": {},
   "outputs": [
    {
     "name": "stdout",
     "output_type": "stream",
     "text": [
      "This is to test export to pdf\n"
     ]
    }
   ],
   "source": [
    "print('This is to test export to pdf')"
   ]
  },
  {
   "cell_type": "code",
   "execution_count": null,
   "id": "ebee9fd7-6d6d-43b8-b3f2-97e4bcbfb9c0",
   "metadata": {},
   "outputs": [],
   "source": [
    "insert message la\n",
    "apples\n"
   ]
  },
  {
   "cell_type": "code",
   "execution_count": null,
   "id": "8d8ec9dc-e630-45d0-9a26-3d7bc2d19ccc",
   "metadata": {},
   "outputs": [],
   "source": []
  }
 ],
 "metadata": {
  "kernelspec": {
   "display_name": "Python 3 (ipykernel)",
   "language": "python",
   "name": "python3"
  },
  "language_info": {
   "codemirror_mode": {
    "name": "ipython",
    "version": 3
   },
   "file_extension": ".py",
   "mimetype": "text/x-python",
   "name": "python",
   "nbconvert_exporter": "python",
   "pygments_lexer": "ipython3",
   "version": "3.10.1"
  }
 },
 "nbformat": 4,
 "nbformat_minor": 5
}
